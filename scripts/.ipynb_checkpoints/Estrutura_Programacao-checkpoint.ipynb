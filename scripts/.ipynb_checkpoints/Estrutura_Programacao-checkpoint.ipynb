{
 "cells": [
  {
   "cell_type": "markdown",
   "id": "ec8bc4c5-da1d-4b5f-a3c0-ff624b96c619",
   "metadata": {},
   "source": [
    "Atividade IF, ELIF E ESLSE"
   ]
  },
  {
   "cell_type": "code",
   "execution_count": 12,
   "id": "7779036d-6ff7-4a66-9bc7-61cb71c3d823",
   "metadata": {},
   "outputs": [
    {
     "name": "stdin",
     "output_type": "stream",
     "text": [
      "Digite seu saldo atual:  -10\n"
     ]
    },
    {
     "name": "stdout",
     "output_type": "stream",
     "text": [
      "R$ -10.0\n",
      "Saldo negativo\n"
     ]
    }
   ],
   "source": [
    "# Crie um programa que receba o seu saldo bancário e o quanto você deve. \n",
    "# Em seguida o programa deve dizer se você tem saldo positivo ou negativo\n",
    "\n",
    "saldo = float(input(\"Digite seu saldo atual: \"))\n",
    "print(f'R$ {saldo}')\n",
    "if saldo >= 0:\n",
    "    print('Saldo positivo')\n",
    "else:\n",
    "    print('Saldo negativo')\n"
   ]
  },
  {
   "cell_type": "code",
   "execution_count": 3,
   "id": "4077e270-3acc-4dde-9d53-5059a9719d51",
   "metadata": {},
   "outputs": [
    {
     "name": "stdin",
     "output_type": "stream",
     "text": [
      " Digite sua senha:  senha@123\n"
     ]
    },
    {
     "name": "stdout",
     "output_type": "stream",
     "text": [
      "Seu CPF é 111.111.111-11\n"
     ]
    }
   ],
   "source": [
    "# Crie um programa que possui uma variável que guarde seu CPF e que guarde uma senha de sua escolha.\n",
    "# Em seguida receba por input uma senha do usuário. Caso a senha recebida correta mostre o CPF, caso não diga que a senha está incorreta.\n",
    "\n",
    "cpf = '111.111.111-11'\n",
    "senha = 'senha@123'\n",
    "\n",
    "login = input(' Digite sua senha: ')\n",
    "if login == senha:\n",
    "    print(f'Seu CPF é {cpf}')\n",
    "else:\n",
    "    print('Senha incorreta')"
   ]
  },
  {
   "cell_type": "code",
   "execution_count": 29,
   "id": "f5630f3b-4b83-476f-988a-8d1a0d06f426",
   "metadata": {},
   "outputs": [
    {
     "name": "stdin",
     "output_type": "stream",
     "text": [
      "Qual a sua idade?  32\n"
     ]
    },
    {
     "name": "stdout",
     "output_type": "stream",
     "text": [
      "Você tem 32 anos, portanto você é um adulto!\n"
     ]
    }
   ],
   "source": [
    "# Crie um programa que sale sobre sua idade. As regras são as seguintes, você deve receber ppot input sua idade,\n",
    "# se você tiver até três anos, printe que é um bbe, até 13 anos uma criança, até 18 anos adolescente, até 65 um adulto.\n",
    "# em nenhum destes casos é um idoso.\n",
    "\n",
    "idade = int(input('Qual a sua idade? '))\n",
    "if idade <= 3:\n",
    "    print(f'Você tem {idade} anos, portanto você é um bebe!')\n",
    "elif idade > 3 and idade <= 13:\n",
    "    print(f'Você tem {idade} anos, portanto você é uma criança!')\n",
    "elif idade > 13 and idade <= 18:\n",
    "    print(f'Você tem {idade} anos, portanto você é um adolescente!')\n",
    "elif idade > 18 and idade <= 65:\n",
    "    print(f'Você tem {idade} anos, portanto você é um adulto!')\n",
    "else:\n",
    "    print(f'Você tem {idade} anos, portanto você é uma idoso!')"
   ]
  },
  {
   "cell_type": "code",
   "execution_count": 45,
   "id": "6a73d73a-de7d-4869-9b3e-57214f495e17",
   "metadata": {},
   "outputs": [
    {
     "name": "stdin",
     "output_type": "stream",
     "text": [
      "digite o primeiro número da equação:  8\n",
      "digite o segundo número da equação:  9\n"
     ]
    },
    {
     "name": "stdout",
     "output_type": "stream",
     "text": [
      "As posisbilidade de equação soma(+), subtração(-), divisão(/) e multiplicação(*)\n"
     ]
    },
    {
     "name": "stdin",
     "output_type": "stream",
     "text": [
      "digite o sinal equação:  *\n"
     ]
    },
    {
     "name": "stdout",
     "output_type": "stream",
     "text": [
      "O resultado da multiplicação é 72\n"
     ]
    }
   ],
   "source": [
    "# Crie um programa que receba dois números, e também receba do usário a operaçõa que deve ser feita, \n",
    "# as posisbilidade são soma(+), subtração(-), divisão(/) e multiplicação(*). Realize a operação escolhida sobre os dois números.\n",
    "\n",
    "num1 = int(input('digite o primeiro número da equação: '))\n",
    "num2 = int(input('digite o segundo número da equação: '))\n",
    "print('As posisbilidade de equação soma(+), subtração(-), divisão(/) e multiplicação(*)')\n",
    "operacao = input('digite o sinal equação: ')\n",
    "if operacao == '+':\n",
    "    res = num1 + num2\n",
    "    print(f'O resultado da somatória é {res}')\n",
    "elif operacao == '-':\n",
    "    res = num1 - num2\n",
    "    print(f'O resultado da  subtração é {res}')\n",
    "elif operacao == '/':\n",
    "    res = num1 / num2\n",
    "    print(f'O resultado da divisão é {res}')\n",
    "elif operacao == '*':\n",
    "    res = num1 * num2\n",
    "    print(f'O resultado da multiplicação é {res}')\n",
    "else:\n",
    "    pass"
   ]
  },
  {
   "cell_type": "markdown",
   "id": "fb735809-d92e-441d-aa76-c71468599289",
   "metadata": {},
   "source": [
    "ATIVIDADE WHILE E FOR"
   ]
  },
  {
   "cell_type": "code",
   "execution_count": 24,
   "id": "3c92183f-10c5-4f6a-b5e2-a0ff3e9c0c72",
   "metadata": {},
   "outputs": [
    {
     "name": "stdin",
     "output_type": "stream",
     "text": [
      "Digite o 1º número:  8\n",
      "Digite o 2º número:  5\n",
      "Digite o 3º número:  6\n",
      "Digite o 4º número:  9\n",
      "Digite o 5º número:  8\n"
     ]
    },
    {
     "name": "stdout",
     "output_type": "stream",
     "text": [
      "A média aritmética dos 5 números é: 7.2\n"
     ]
    }
   ],
   "source": [
    "# Crie um programa que receba 5 números e retorne a média aritimetica entre esses números\n",
    "soma = 0\n",
    "\n",
    "# Loop para receber 5 números\n",
    "for i in range(5):\n",
    "    num = float(input(f\"Digite o {i+1}º número: \")) \n",
    "    soma += num \n",
    "# Calcula a média\n",
    "media = soma / 5\n",
    "\n",
    "# Exibe o resultado\n",
    "print(f\"A média aritmética dos 5 números é: {media}\")\n"
   ]
  },
  {
   "cell_type": "code",
   "execution_count": 25,
   "id": "db95518a-28c5-4fae-9654-9c38a27966f4",
   "metadata": {},
   "outputs": [
    {
     "name": "stdin",
     "output_type": "stream",
     "text": [
      "Digite um número inteiro positivo:  10\n"
     ]
    },
    {
     "name": "stdout",
     "output_type": "stream",
     "text": [
      "O fatorial de 10 é: 3628800\n"
     ]
    }
   ],
   "source": [
    "# Programa para calcular o fatorial de um número\n",
    "n = int(input(\"Digite um número inteiro positivo: \"))\n",
    "fatorial = 1\n",
    "\n",
    "for i in range(1, n + 1):\n",
    "    fatorial *= i  # Multiplica o valor de fatorial por i a cada iteração\n",
    "\n",
    "print(f\"O fatorial de {n} é: {fatorial}\")\n"
   ]
  },
  {
   "cell_type": "code",
   "execution_count": 26,
   "id": "86555e3b-6295-402b-9629-c503161bfe7d",
   "metadata": {},
   "outputs": [
    {
     "name": "stdin",
     "output_type": "stream",
     "text": [
      "Digite um número:  8\n",
      "Digite um número:  6\n",
      "Digite um número:  1\n",
      "Digite um número:  5\n",
      "Digite um número:  3\n",
      "Digite um número:  8\n",
      "Digite um número:  9\n",
      "Digite um número:  7\n",
      "Digite um número:  8\n",
      "Digite um número:  -5\n"
     ]
    },
    {
     "name": "stdout",
     "output_type": "stream",
     "text": [
      "A soma dos números positivos é: 55.0\n"
     ]
    }
   ],
   "source": [
    "# Programa para somar números positivos até que o usuário digite um número negativo\n",
    "soma = 0\n",
    "contador = 0\n",
    "\n",
    "while contador < 10:\n",
    "    num = float(input(\"Digite um número: \"))\n",
    "    if num > 0:\n",
    "        soma += num\n",
    "    contador += 1\n",
    "\n",
    "print(f\"A soma dos números positivos é: {soma}\")\n"
   ]
  },
  {
   "cell_type": "code",
   "execution_count": 27,
   "id": "8b20bb37-335f-41b6-80c1-67c412850403",
   "metadata": {},
   "outputs": [
    {
     "name": "stdin",
     "output_type": "stream",
     "text": [
      "Digite um número inteiro positivo:  8\n"
     ]
    },
    {
     "name": "stdout",
     "output_type": "stream",
     "text": [
      "1\n",
      "2\n",
      "3\n",
      "4\n",
      "5\n",
      "6\n",
      "7\n",
      "8\n"
     ]
    }
   ],
   "source": [
    "# Programa para imprimir números de 1 até o número informado\n",
    "n = int(input(\"Digite um número inteiro positivo: \"))\n",
    "\n",
    "for i in range(1, n + 1):\n",
    "    print(i)\n"
   ]
  },
  {
   "cell_type": "code",
   "execution_count": 28,
   "id": "8cdea80d-bc4c-49d0-a8bb-de968efc71e7",
   "metadata": {},
   "outputs": [
    {
     "name": "stdin",
     "output_type": "stream",
     "text": [
      "Digite um número inteiro positivo:  9\n"
     ]
    },
    {
     "name": "stdout",
     "output_type": "stream",
     "text": [
      "9 não é um número primo.\n"
     ]
    }
   ],
   "source": [
    "# Programa para verificar se um número é primo\n",
    "n = int(input(\"Digite um número inteiro positivo: \"))\n",
    "contador = 0\n",
    "i = 1\n",
    "\n",
    "while i <= n:\n",
    "    if n % i == 0:\n",
    "        contador += 1\n",
    "    i += 1\n",
    "\n",
    "if contador == 2:\n",
    "    print(f\"{n} é um número primo.\")\n",
    "else:\n",
    "    print(f\"{n} não é um número primo.\")\n"
   ]
  },
  {
   "cell_type": "code",
   "execution_count": 29,
   "id": "34140b28-6dd2-4f40-938c-3ed5fa3c329b",
   "metadata": {},
   "outputs": [
    {
     "name": "stdin",
     "output_type": "stream",
     "text": [
      "Digite um número para ver sua tabuada:  5\n"
     ]
    },
    {
     "name": "stdout",
     "output_type": "stream",
     "text": [
      "5 x 1 = 5\n",
      "5 x 2 = 10\n",
      "5 x 3 = 15\n",
      "5 x 4 = 20\n",
      "5 x 5 = 25\n",
      "5 x 6 = 30\n",
      "5 x 7 = 35\n",
      "5 x 8 = 40\n",
      "5 x 9 = 45\n",
      "5 x 10 = 50\n"
     ]
    }
   ],
   "source": [
    "# Programa para imprimir a tabuada de um número\n",
    "n = int(input(\"Digite um número para ver sua tabuada: \"))\n",
    "\n",
    "for i in range(1, 11):\n",
    "    print(f\"{n} x {i} = {n * i}\")\n"
   ]
  },
  {
   "cell_type": "code",
   "execution_count": 30,
   "id": "847708cd-0fb9-4e8a-ad49-2c9ad402a211",
   "metadata": {},
   "outputs": [
    {
     "name": "stdin",
     "output_type": "stream",
     "text": [
      "Digite um número (digite 0 para sair):  5\n",
      "Digite um número (digite 0 para sair):  6\n",
      "Digite um número (digite 0 para sair):  0\n"
     ]
    },
    {
     "name": "stdout",
     "output_type": "stream",
     "text": [
      "A soma dos números digitados é: 11\n"
     ]
    }
   ],
   "source": [
    "# Programa para somar números até o usuário digitar 0\n",
    "soma = 0\n",
    "\n",
    "while True:\n",
    "    num = int(input(\"Digite um número (digite 0 para sair): \"))\n",
    "    if num == 0:\n",
    "        break\n",
    "    soma += num\n",
    "\n",
    "print(f\"A soma dos números digitados é: {soma}\")\n"
   ]
  },
  {
   "cell_type": "code",
   "execution_count": 31,
   "id": "4abc7525-0b8e-4dbb-ba6c-73c80ab5f3e8",
   "metadata": {},
   "outputs": [
    {
     "name": "stdin",
     "output_type": "stream",
     "text": [
      "Digite o 1º número:  5\n",
      "Digite o 2º número:  6\n",
      "Digite o 3º número:  6\n",
      "Digite o 4º número:  6\n",
      "Digite o 5º número:  6\n"
     ]
    },
    {
     "name": "stdout",
     "output_type": "stream",
     "text": [
      "Quantidade de números positivos: 5\n",
      "Quantidade de números negativos: 0\n"
     ]
    }
   ],
   "source": [
    "# Programa para contar números positivos e negativos\n",
    "positivos = 0\n",
    "negativos = 0\n",
    "\n",
    "for i in range(5):\n",
    "    num = int(input(f\"Digite o {i+1}º número: \"))\n",
    "    if num > 0:\n",
    "        positivos += 1\n",
    "    elif num < 0:\n",
    "        negativos += 1\n",
    "\n",
    "print(f\"Quantidade de números positivos: {positivos}\")\n",
    "print(f\"Quantidade de números negativos: {negativos}\")\n"
   ]
  },
  {
   "cell_type": "code",
   "execution_count": 32,
   "id": "d65721d3-d6a9-4954-b5d9-63f56bcd9bd4",
   "metadata": {},
   "outputs": [
    {
     "name": "stdin",
     "output_type": "stream",
     "text": [
      "Digite um número inteiro positivo:  6\n"
     ]
    },
    {
     "name": "stdout",
     "output_type": "stream",
     "text": [
      "A soma dos divisores de 6 é: 6\n"
     ]
    }
   ],
   "source": [
    "# Programa para somar os divisores de um número\n",
    "n = int(input(\"Digite um número inteiro positivo: \"))\n",
    "soma_divisores = 0\n",
    "\n",
    "for i in range(1, n):\n",
    "    if n % i == 0:\n",
    "        soma_divisores += i\n",
    "\n",
    "print(f\"A soma dos divisores de {n} é: {soma_divisores}\")\n"
   ]
  },
  {
   "cell_type": "code",
   "execution_count": 34,
   "id": "a651fa01-7d57-45a5-bb04-bee8ae25d69b",
   "metadata": {},
   "outputs": [
    {
     "name": "stdin",
     "output_type": "stream",
     "text": [
      "Digite um número (digite -1 para terminar):  8\n",
      "Digite um número (digite -1 para terminar):  6\n",
      "Digite um número (digite -1 para terminar):  6\n",
      "Digite um número (digite -1 para terminar):  -1\n"
     ]
    },
    {
     "name": "stdout",
     "output_type": "stream",
     "text": [
      "O maior número digitado foi: 8\n",
      "O menor número digitado foi: 6\n"
     ]
    }
   ],
   "source": [
    "# Programa para encontrar o maior e menor número em uma lista\n",
    "numeros = []\n",
    "while True:\n",
    "    num = int(input(\"Digite um número (digite -1 para terminar): \"))\n",
    "    if num == -1:\n",
    "        break\n",
    "    numeros.append(num)\n",
    "\n",
    "maior = max(numeros)\n",
    "menor = min(numeros)\n",
    "\n",
    "print(f\"O maior número digitado foi: {maior}\")\n",
    "print(f\"O menor número digitado foi: {menor}\")\n"
   ]
  },
  {
   "cell_type": "code",
   "execution_count": 35,
   "id": "3b9fe131-2b13-4563-8792-965cbff23e24",
   "metadata": {},
   "outputs": [
    {
     "name": "stdin",
     "output_type": "stream",
     "text": [
      "Digite um número inteiro positivo:  5\n"
     ]
    },
    {
     "name": "stdout",
     "output_type": "stream",
     "text": [
      "3\n"
     ]
    }
   ],
   "source": [
    "# Programa para imprimir múltiplos de 3 até o número informado\n",
    "n = int(input(\"Digite um número inteiro positivo: \"))\n",
    "\n",
    "for i in range(1, n + 1):\n",
    "    if i % 3 == 0:\n",
    "        print(i)\n"
   ]
  },
  {
   "cell_type": "code",
   "execution_count": null,
   "id": "c4c2fadf-c8b8-42f7-b3a5-6ebd3fef6f5e",
   "metadata": {},
   "outputs": [],
   "source": []
  }
 ],
 "metadata": {
  "kernelspec": {
   "display_name": "Python 3 (ipykernel)",
   "language": "python",
   "name": "python3"
  },
  "language_info": {
   "codemirror_mode": {
    "name": "ipython",
    "version": 3
   },
   "file_extension": ".py",
   "mimetype": "text/x-python",
   "name": "python",
   "nbconvert_exporter": "python",
   "pygments_lexer": "ipython3",
   "version": "3.12.7"
  }
 },
 "nbformat": 4,
 "nbformat_minor": 5
}
