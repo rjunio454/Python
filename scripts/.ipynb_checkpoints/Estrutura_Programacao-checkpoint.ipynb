{
 "cells": [
  {
   "cell_type": "code",
   "execution_count": 12,
   "id": "7779036d-6ff7-4a66-9bc7-61cb71c3d823",
   "metadata": {},
   "outputs": [
    {
     "name": "stdin",
     "output_type": "stream",
     "text": [
      "Digite seu saldo atual:  -10\n"
     ]
    },
    {
     "name": "stdout",
     "output_type": "stream",
     "text": [
      "R$ -10.0\n",
      "Saldo negativo\n"
     ]
    }
   ],
   "source": [
    "# Crie um programa que receba o seu saldo bancário e o quanto você deve. \n",
    "# Em seguida o programa deve dizer se você tem saldo positivo ou negativo\n",
    "\n",
    "saldo = float(input(\"Digite seu saldo atual: \"))\n",
    "print(f'R$ {saldo}')\n",
    "if saldo >= 0:\n",
    "    print('Saldo positivo')\n",
    "else:\n",
    "    print('Saldo negativo')\n"
   ]
  },
  {
   "cell_type": "code",
   "execution_count": 3,
   "id": "4077e270-3acc-4dde-9d53-5059a9719d51",
   "metadata": {},
   "outputs": [
    {
     "name": "stdin",
     "output_type": "stream",
     "text": [
      " Digite sua senha:  senha@123\n"
     ]
    },
    {
     "name": "stdout",
     "output_type": "stream",
     "text": [
      "Seu CPF é 111.111.111-11\n"
     ]
    }
   ],
   "source": [
    "# Crie um programa que possui uma variável que guarde seu CPF e que guarde uma senha de sua escolha.\n",
    "# Em seguida receba por input uma senha do usuário. Caso a senha recebida correta mostre o CPF, caso não diga que a senha está incorreta.\n",
    "\n",
    "cpf = '111.111.111-11'\n",
    "senha = 'senha@123'\n",
    "\n",
    "login = input(' Digite sua senha: ')\n",
    "if login == senha:\n",
    "    print(f'Seu CPF é {cpf}')\n",
    "else:\n",
    "    print('Senha incorreta')"
   ]
  },
  {
   "cell_type": "code",
   "execution_count": 29,
   "id": "f5630f3b-4b83-476f-988a-8d1a0d06f426",
   "metadata": {},
   "outputs": [
    {
     "name": "stdin",
     "output_type": "stream",
     "text": [
      "Qual a sua idade?  32\n"
     ]
    },
    {
     "name": "stdout",
     "output_type": "stream",
     "text": [
      "Você tem 32 anos, portanto você é um adulto!\n"
     ]
    }
   ],
   "source": [
    "# Crie um programa que sale sobre sua idade. As regras são as seguintes, você deve receber ppot input sua idade,\n",
    "# se você tiver até três anos, printe que é um bbe, até 13 anos uma criança, até 18 anos adolescente, até 65 um adulto.\n",
    "# em nenhum destes casos é um idoso.\n",
    "\n",
    "idade = int(input('Qual a sua idade? '))\n",
    "if idade <= 3:\n",
    "    print(f'Você tem {idade} anos, portanto você é um bebe!')\n",
    "elif idade > 3 and idade <= 13:\n",
    "    print(f'Você tem {idade} anos, portanto você é uma criança!')\n",
    "elif idade > 13 and idade <= 18:\n",
    "    print(f'Você tem {idade} anos, portanto você é um adolescente!')\n",
    "elif idade > 18 and idade <= 65:\n",
    "    print(f'Você tem {idade} anos, portanto você é um adulto!')\n",
    "else:\n",
    "    print(f'Você tem {idade} anos, portanto você é uma idoso!')"
   ]
  },
  {
   "cell_type": "code",
   "execution_count": 45,
   "id": "6a73d73a-de7d-4869-9b3e-57214f495e17",
   "metadata": {},
   "outputs": [
    {
     "name": "stdin",
     "output_type": "stream",
     "text": [
      "digite o primeiro número da equação:  8\n",
      "digite o segundo número da equação:  9\n"
     ]
    },
    {
     "name": "stdout",
     "output_type": "stream",
     "text": [
      "As posisbilidade de equação soma(+), subtração(-), divisão(/) e multiplicação(*)\n"
     ]
    },
    {
     "name": "stdin",
     "output_type": "stream",
     "text": [
      "digite o sinal equação:  *\n"
     ]
    },
    {
     "name": "stdout",
     "output_type": "stream",
     "text": [
      "O resultado da multiplicação é 72\n"
     ]
    }
   ],
   "source": [
    "# Crie um programa que receba dois números, e também receba do usário a operaçõa que deve ser feita, \n",
    "# as posisbilidade são soma(+), subtração(-), divisão(/) e multiplicação(*). Realize a operação escolhida sobre os dois números.\n",
    "\n",
    "num1 = int(input('digite o primeiro número da equação: '))\n",
    "num2 = int(input('digite o segundo número da equação: '))\n",
    "print('As posisbilidade de equação soma(+), subtração(-), divisão(/) e multiplicação(*)')\n",
    "operacao = input('digite o sinal equação: ')\n",
    "if operacao == '+':\n",
    "    res = num1 + num2\n",
    "    print(f'O resultado da somatória é {res}')\n",
    "elif operacao == '-':\n",
    "    res = num1 - num2\n",
    "    print(f'O resultado da  subtração é {res}')\n",
    "elif operacao == '/':\n",
    "    res = num1 / num2\n",
    "    print(f'O resultado da divisão é {res}')\n",
    "elif operacao == '*':\n",
    "    res = num1 * num2\n",
    "    print(f'O resultado da multiplicação é {res}')\n",
    "else:\n",
    "    pass"
   ]
  },
  {
   "cell_type": "code",
   "execution_count": null,
   "id": "e2393348-7cee-4fb7-8813-1b1dd40d78df",
   "metadata": {},
   "outputs": [],
   "source": []
  }
 ],
 "metadata": {
  "kernelspec": {
   "display_name": "Python 3 (ipykernel)",
   "language": "python",
   "name": "python3"
  },
  "language_info": {
   "codemirror_mode": {
    "name": "ipython",
    "version": 3
   },
   "file_extension": ".py",
   "mimetype": "text/x-python",
   "name": "python",
   "nbconvert_exporter": "python",
   "pygments_lexer": "ipython3",
   "version": "3.12.7"
  }
 },
 "nbformat": 4,
 "nbformat_minor": 5
}
