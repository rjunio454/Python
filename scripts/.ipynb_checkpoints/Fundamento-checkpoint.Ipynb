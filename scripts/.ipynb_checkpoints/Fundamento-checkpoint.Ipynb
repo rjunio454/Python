{
 "cells": [
  {
   "cell_type": "code",
   "execution_count": 20,
   "metadata": {},
   "outputs": [
    {
     "name": "stdout",
     "output_type": "stream",
     "text": [
      "Olá, Mundo!\n"
     ]
    }
   ],
   "source": [
    "#  Crie um programa que imprima \"Olá, Mundo!\" na tela.\n",
    "print(\"Olá, Mundo!\")\n"
   ]
  },
  {
   "cell_type": "code",
   "execution_count": 23,
   "metadata": {},
   "outputs": [
    {
     "name": "stdin",
     "output_type": "stream",
     "text": [
      "Qual é o seu nome?  Roh\n"
     ]
    },
    {
     "name": "stdout",
     "output_type": "stream",
     "text": [
      "Olá, Roh!\n"
     ]
    }
   ],
   "source": [
    "#  Crie um programa que peça ao usuário o seu nome e depois imprima uma saudação personalizada.\n",
    "nome = input(\"Qual é o seu nome? \")\n",
    "print(f\"Olá, {nome}!\")\n"
   ]
  },
  {
   "cell_type": "code",
   "execution_count": 24,
   "metadata": {},
   "outputs": [
    {
     "name": "stdin",
     "output_type": "stream",
     "text": [
      "Digite o primeiro número:  31\n",
      "Digite o segundo número:  5\n"
     ]
    },
    {
     "name": "stdout",
     "output_type": "stream",
     "text": [
      "A soma é: 36\n"
     ]
    }
   ],
   "source": [
    "#  Crie um programa que peça ao usuário dois números inteiros e imprima a soma deles.\n",
    "num1 = int(input(\"Digite o primeiro número: \"))\n",
    "num2 = int(input(\"Digite o segundo número: \"))\n",
    "print(f\"A soma é: {num1 + num2}\")\n"
   ]
  },
  {
   "cell_type": "code",
   "execution_count": 25,
   "metadata": {},
   "outputs": [
    {
     "name": "stdin",
     "output_type": "stream",
     "text": [
      "Digite a primeira nota:  8\n",
      "Digite a segunda nota:  6\n",
      "Digite a terceira nota:  4\n"
     ]
    },
    {
     "name": "stdout",
     "output_type": "stream",
     "text": [
      "A média das notas é: 6.0\n"
     ]
    }
   ],
   "source": [
    "#  Crie um programa que calcule a média de três notas fornecidas pelo usuário.\n",
    "nota1 = float(input(\"Digite a primeira nota: \"))\n",
    "nota2 = float(input(\"Digite a segunda nota: \"))\n",
    "nota3 = float(input(\"Digite a terceira nota: \"))\n",
    "media = (nota1 + nota2 + nota3) / 3\n",
    "print(f\"A média das notas é: {media}\")\n",
    "\n"
   ]
  },
  {
   "cell_type": "code",
   "execution_count": 26,
   "metadata": {},
   "outputs": [
    {
     "name": "stdout",
     "output_type": "stream",
     "text": [
      "1\n",
      "2\n",
      "3\n",
      "4\n",
      "5\n",
      "6\n",
      "7\n",
      "8\n",
      "9\n",
      "10\n"
     ]
    }
   ],
   "source": [
    "#  Crie um programa que imprima os números de 1 a 10 utilizando um laço de repetição.\n",
    "for i in range(1, 11):\n",
    "    print(i)\n"
   ]
  },
  {
   "cell_type": "code",
   "execution_count": 27,
   "metadata": {},
   "outputs": [
    {
     "name": "stdin",
     "output_type": "stream",
     "text": [
      "Digite um número:  6\n"
     ]
    },
    {
     "name": "stdout",
     "output_type": "stream",
     "text": [
      "O número é par.\n"
     ]
    }
   ],
   "source": [
    "#  Crie um programa que leia um número e informe se ele é par ou ímpar.\n",
    "numero = int(input(\"Digite um número: \"))\n",
    "if numero % 2 == 0:\n",
    "    print(\"O número é par.\")\n",
    "else:\n",
    "    print(\"O número é ímpar.\")\n"
   ]
  },
  {
   "cell_type": "code",
   "execution_count": 29,
   "metadata": {},
   "outputs": [
    {
     "name": "stdin",
     "output_type": "stream",
     "text": [
      "Digite a temperatura em Celsius:  36\n"
     ]
    },
    {
     "name": "stdout",
     "output_type": "stream",
     "text": [
      "A temperatura em Fahrenheit é: 96.8\n"
     ]
    }
   ],
   "source": [
    "#  Crie um programa que converta uma temperatura em Celsius para Fahrenheit.\n",
    "celsius = float(input(\"Digite a temperatura em Celsius: \"))\n",
    "fahrenheit = (celsius * 9/5) + 32\n",
    "print(f\"A temperatura em Fahrenheit é: {fahrenheit}\")\n"
   ]
  },
  {
   "cell_type": "code",
   "execution_count": 30,
   "metadata": {},
   "outputs": [
    {
     "name": "stdin",
     "output_type": "stream",
     "text": [
      "Digite um número para calcular seu fatorial:  8\n"
     ]
    },
    {
     "name": "stdout",
     "output_type": "stream",
     "text": [
      "O fatorial de 8 é: 40320\n"
     ]
    }
   ],
   "source": [
    "#  Crie um programa que leia um número e calcule seu fatorial (utilize um laço de repetição).\n",
    "num = int(input(\"Digite um número para calcular seu fatorial: \"))\n",
    "fatorial = 1\n",
    "for i in range(1, num + 1):\n",
    "    fatorial *= i\n",
    "print(f\"O fatorial de {num} é: {fatorial}\")\n"
   ]
  },
  {
   "cell_type": "code",
   "execution_count": 31,
   "metadata": {},
   "outputs": [
    {
     "name": "stdin",
     "output_type": "stream",
     "text": [
      "Digite um número:  5\n"
     ]
    },
    {
     "name": "stdout",
     "output_type": "stream",
     "text": [
      "O número é positivo.\n"
     ]
    }
   ],
   "source": [
    "#  Crie um programa que leia um número e informe se ele é positivo, negativo ou zero.\n",
    "numero = int(input(\"Digite um número: \"))\n",
    "if numero > 0:\n",
    "    print(\"O número é positivo.\")\n",
    "elif numero < 0:\n",
    "    print(\"O número é negativo.\")\n",
    "else:\n",
    "    print(\"O número é zero.\")\n"
   ]
  },
  {
   "cell_type": "code",
   "execution_count": 32,
   "metadata": {},
   "outputs": [
    {
     "name": "stdin",
     "output_type": "stream",
     "text": [
      "Digite um número para ver a tabuada:  5\n"
     ]
    },
    {
     "name": "stdout",
     "output_type": "stream",
     "text": [
      "5 x 1 = 5\n",
      "5 x 2 = 10\n",
      "5 x 3 = 15\n",
      "5 x 4 = 20\n",
      "5 x 5 = 25\n",
      "5 x 6 = 30\n",
      "5 x 7 = 35\n",
      "5 x 8 = 40\n",
      "5 x 9 = 45\n",
      "5 x 10 = 50\n"
     ]
    }
   ],
   "source": [
    "#  Crie um programa que mostre a tabuada de um número fornecido pelo usuário.\n",
    "numero = int(input(\"Digite um número para ver a tabuada: \"))\n",
    "for i in range(1, 11):\n",
    "    print(f\"{numero} x {i} = {numero * i}\")\n"
   ]
  },
  {
   "cell_type": "code",
   "execution_count": 33,
   "metadata": {},
   "outputs": [
    {
     "name": "stdout",
     "output_type": "stream",
     "text": [
      "Romário Ferreira 25 1.75 True\n"
     ]
    }
   ],
   "source": [
    "# Crie uma variável de cada tipo e ponha alguma valor escolhido em seguida, printe todos esses valores.\n",
    "var_texto = \"Romário Ferreira\"\n",
    "var_inteiro = 25\n",
    "var_float = 1.75\n",
    "var_booleano = True\n",
    "\n",
    "print(var_texto, var_inteiro, var_float, var_booleano)\n",
    "\n",
    "var_nome = \"Romário Ferreira\"\n",
    "var_cpf = \"111.111.111-11\"\n",
    "var_casado = False\n",
    "\n",
    "\n"
   ]
  },
  {
   "cell_type": "code",
   "execution_count": 34,
   "metadata": {},
   "outputs": [
    {
     "name": "stdout",
     "output_type": "stream",
     "text": [
      "O preço com desconto é: 90.0\n"
     ]
    }
   ],
   "source": [
    "#  Crie uma variável para armazenar o preço de um produto e calcule o preço com 10% de desconto.\n",
    "preco = 100\n",
    "desconto = 0.10\n",
    "preco_com_desconto = preco - (preco * desconto)\n",
    "print(f\"O preço com desconto é: {preco_com_desconto}\")\n"
   ]
  },
  {
   "cell_type": "code",
   "execution_count": 35,
   "metadata": {},
   "outputs": [
    {
     "name": "stdout",
     "output_type": "stream",
     "text": [
      "Sua altura em centímetros é: 175.0 cm.\n"
     ]
    }
   ],
   "source": [
    "#  Crie uma variável para armazenar sua altura em metros e depois converta para centímetros.\n",
    "altura = 1.75\n",
    "altura_cm = altura * 100\n",
    "print(f\"Sua altura em centímetros é: {altura_cm} cm.\")\n"
   ]
  },
  {
   "cell_type": "code",
   "execution_count": 36,
   "metadata": {},
   "outputs": [
    {
     "name": "stdout",
     "output_type": "stream",
     "text": [
      "A área do retângulo é: 15\n"
     ]
    }
   ],
   "source": [
    "#  Crie duas variáveis que armazenam os lados de um retângulo e calcule sua área.\n",
    "comprimento = 5\n",
    "largura = 3\n",
    "area = comprimento * largura\n",
    "print(f\"A área do retângulo é: {area}\")\n"
   ]
  },
  {
   "cell_type": "code",
   "execution_count": 37,
   "metadata": {},
   "outputs": [
    {
     "name": "stdout",
     "output_type": "stream",
     "text": [
      "Você nasceu no ano de 2000.\n"
     ]
    }
   ],
   "source": [
    "#  Crie uma variável que armazene a sua idade e outra que armazene o ano atual. Depois, calcule o ano de nascimento.\n",
    "idade = 25\n",
    "ano_atual = 2025\n",
    "ano_nascimento = ano_atual - idade\n",
    "print(f\"Você nasceu no ano de {ano_nascimento}.\")\n"
   ]
  },
  {
   "cell_type": "code",
   "execution_count": 38,
   "metadata": {},
   "outputs": [
    {
     "name": "stdout",
     "output_type": "stream",
     "text": [
      "Seu novo salário com 15% de aumento é: 2300.0\n"
     ]
    }
   ],
   "source": [
    "# Crie uma variável para armazenar o seu salário e calcule 15% de aumento.\n",
    "salario = 2000\n",
    "aumento = salario * 0.15\n",
    "novo_salario = salario + aumento\n",
    "print(f\"Seu novo salário com 15% de aumento é: {novo_salario}\")\n"
   ]
  },
  {
   "cell_type": "code",
   "execution_count": 39,
   "metadata": {},
   "outputs": [
    {
     "name": "stdout",
     "output_type": "stream",
     "text": [
      "A distância entre as cidades é: 120000 metros.\n"
     ]
    }
   ],
   "source": [
    "#  Crie uma variável para armazenar a distância entre duas cidades em quilômetros e converta para metros.\n",
    "distancia_km = 120\n",
    "distancia_m = distancia_km * 1000\n",
    "print(f\"A distância entre as cidades é: {distancia_m} metros.\")\n"
   ]
  },
  {
   "cell_type": "code",
   "execution_count": 40,
   "metadata": {},
   "outputs": [
    {
     "name": "stdout",
     "output_type": "stream",
     "text": [
      "A temperatura em Celsius é: 37.0\n"
     ]
    }
   ],
   "source": [
    "#  Crie uma variável para armazenar a temperatura em Fahrenheit e converta para Celsius.\n",
    "fahrenheit = 98.6\n",
    "celsius = (fahrenheit - 32) * 5/9\n",
    "print(f\"A temperatura em Celsius é: {celsius}\")\n"
   ]
  },
  {
   "cell_type": "code",
   "execution_count": 41,
   "metadata": {},
   "outputs": [
    {
     "name": "stdout",
     "output_type": "stream",
     "text": [
      "Romário Ferreira\n",
      "111.111.111-11\n",
      "False\n",
      "Meu nome é Romário Ferreira meu CPF é 111.111.111-11 e eu estou casado? False\n"
     ]
    }
   ],
   "source": [
    "# Crie variáveis para guardar seu nome, CPF e uma que indique se você esta casado, em seguida printe esses valores separadamente, mas não esqueça de printar junto o que eles significam.\n",
    "print(var_nome)\n",
    "print(var_cpf)\n",
    "print(var_casado)\n",
    "\n",
    "print(f\"Meu nome é {var_nome} meu CPF é {var_cpf} e eu estou casado? {var_casado}\")"
   ]
  },
  {
   "cell_type": "code",
   "execution_count": 42,
   "metadata": {},
   "outputs": [
    {
     "name": "stdout",
     "output_type": "stream",
     "text": [
      "O total em minutos é: 150\n"
     ]
    }
   ],
   "source": [
    "#  Crie duas variáveis para armazenar a quantidade de horas e minutos. Depois, converta tudo para minutos.\n",
    "horas = 2\n",
    "minutos = 30\n",
    "total_minutos = (horas * 60) + minutos\n",
    "print(f\"O total em minutos é: {total_minutos}\")\n"
   ]
  },
  {
   "cell_type": "code",
   "execution_count": 43,
   "metadata": {},
   "outputs": [
    {
     "name": "stdout",
     "output_type": "stream",
     "text": [
      "45 dias equivalem a 6 semanas e 3 dias.\n"
     ]
    }
   ],
   "source": [
    "#  Crie uma variável para armazenar o número de dias e converta para semanas e dias restantes.\n",
    "dias = 45\n",
    "semanas = dias // 7\n",
    "dias_restantes = dias % 7\n",
    "print(f\"{dias} dias equivalem a {semanas} semanas e {dias_restantes} dias.\")\n"
   ]
  },
  {
   "cell_type": "code",
   "execution_count": 44,
   "metadata": {},
   "outputs": [
    {
     "name": "stdout",
     "output_type": "stream",
     "text": [
      "Eu nasci em 11/9/1993\n"
     ]
    }
   ],
   "source": [
    "#  Escreva e formate a data em que você nasceu no formato dia/mês/ano. Não esqueça de criar 3 variavéis para guardar cada dia, mês e ano.\n",
    "dia=11\n",
    "mes= 9\n",
    "ano=1993\n",
    "\n",
    "print(f\"Eu nasci em {dia}/{mes}/{ano}\")"
   ]
  },
  {
   "cell_type": "code",
   "execution_count": 45,
   "metadata": {},
   "outputs": [
    {
     "name": "stdout",
     "output_type": "stream",
     "text": [
      "Meu nome é Maria e eu tenho 30 anos.\n"
     ]
    }
   ],
   "source": [
    "#  Crie um programa que imprima seu nome e sua idade em uma única linha, usando formatação.\n",
    "nome = \"Maria\"\n",
    "idade = 30\n",
    "print(f\"Meu nome é {nome} e eu tenho {idade} anos.\")\n"
   ]
  },
  {
   "cell_type": "code",
   "execution_count": 46,
   "metadata": {},
   "outputs": [
    {
     "name": "stdout",
     "output_type": "stream",
     "text": [
      "O número com 2 casas decimais é: 123.46\n"
     ]
    }
   ],
   "source": [
    "#  Crie um programa que imprima um número flutuante com 2 casas decimais.\n",
    "numero = 123.4567\n",
    "print(f\"O número com 2 casas decimais é: {numero:.2f}\")\n"
   ]
  },
  {
   "cell_type": "code",
   "execution_count": 47,
   "metadata": {},
   "outputs": [
    {
     "name": "stdout",
     "output_type": "stream",
     "text": [
      "Lucas                está alinhado à esquerda.\n",
      "               Lucas está alinhado à direita.\n"
     ]
    }
   ],
   "source": [
    "#  Crie um programa que imprima seu nome alinhado à esquerda e à direita em um campo de 20 caracteres.\n",
    "nome = \"Lucas\"\n",
    "print(f\"{nome:<20} está alinhado à esquerda.\")\n",
    "print(f\"{nome:>20} está alinhado à direita.\")\n"
   ]
  },
  {
   "cell_type": "code",
   "execution_count": 48,
   "metadata": {},
   "outputs": [
    {
     "name": "stdout",
     "output_type": "stream",
     "text": [
      "O número com zeros à esquerda é: 00042\n"
     ]
    }
   ],
   "source": [
    "#  Crie um programa que imprima um número com zeros à esquerda até completar 5 dígitos.\n",
    "numero = 42\n",
    "print(f\"O número com zeros à esquerda é: {numero:05}\")\n"
   ]
  },
  {
   "cell_type": "code",
   "execution_count": 49,
   "metadata": {},
   "outputs": [
    {
     "name": "stdout",
     "output_type": "stream",
     "text": [
      "Romário tem 25 anos.\n"
     ]
    }
   ],
   "source": [
    "#  Crie um programa que imprima o nome e a idade de uma pessoa com formatação.\n",
    "nome = \"Romário\"\n",
    "idade = 25\n",
    "print(f\"{nome} tem {idade} anos.\")\n"
   ]
  },
  {
   "cell_type": "code",
   "execution_count": 50,
   "metadata": {},
   "outputs": [
    {
     "name": "stdout",
     "output_type": "stream",
     "text": [
      "O número com separador de milhar é: 1,000,000\n"
     ]
    }
   ],
   "source": [
    "#  Crie um programa que imprima um número grande com separador de milhar.\n",
    "numero = 1000000\n",
    "print(f\"O número com separador de milhar é: {numero:,}\")\n"
   ]
  },
  {
   "cell_type": "code",
   "execution_count": 51,
   "metadata": {},
   "outputs": [
    {
     "name": "stdout",
     "output_type": "stream",
     "text": [
      "Olá, meu nome é Ana e eu tenho 22 anos.\n"
     ]
    }
   ],
   "source": [
    "#  Crie um programa que imprima uma mensagem personalizada combinando seu nome e idade com um texto explicativo.\n",
    "nome = \"Ana\"\n",
    "idade = 22\n",
    "print(f\"Olá, meu nome é {nome} e eu tenho {idade} anos.\")\n"
   ]
  },
  {
   "cell_type": "code",
   "execution_count": 52,
   "metadata": {},
   "outputs": [
    {
     "name": "stdout",
     "output_type": "stream",
     "text": [
      "Meu nome é Carlos e tenho 40 anos.\n"
     ]
    }
   ],
   "source": [
    "#  Crie um programa que utilize o método `.format()` para exibir uma mensagem.\n",
    "nome = \"Carlos\"\n",
    "idade = 40\n",
    "print(\"Meu nome é {} e tenho {} anos.\".format(nome, idade))\n"
   ]
  },
  {
   "cell_type": "code",
   "execution_count": 53,
   "metadata": {},
   "outputs": [
    {
     "name": "stdout",
     "output_type": "stream",
     "text": [
      "A porcentagem é: 85.6%\n"
     ]
    }
   ],
   "source": [
    "#  Crie um programa que imprima uma porcentagem com 1 casa decimal.\n",
    "porcentagem = 0.856\n",
    "print(f\"A porcentagem é: {porcentagem:.1%}\")\n"
   ]
  },
  {
   "cell_type": "code",
   "execution_count": 54,
   "metadata": {},
   "outputs": [
    {
     "name": "stdout",
     "output_type": "stream",
     "text": [
      "A data de hoje é: 12/02/2025\n"
     ]
    }
   ],
   "source": [
    "# Crie um programa que imprima a data atual no formato \"dd/mm/aaaa\".\n",
    "from datetime import datetime\n",
    "data_atual = datetime.now()\n",
    "print(f\"A data de hoje é: {data_atual.strftime('%d/%m/%Y')}\")\n"
   ]
  },
  {
   "cell_type": "code",
   "execution_count": 55,
   "metadata": {},
   "outputs": [
    {
     "name": "stdout",
     "output_type": "stream",
     "text": [
      "Minha idade idade em 2025 será de 32 anos.\n"
     ]
    }
   ],
   "source": [
    "# Crie um programa que possui duas variáveis, uma recebe o ano em que estamos e a outra o ano em que você nasceu. \n",
    "# Em seguida subtraia ambas para receber uma estimativa de quantos anos você tem. Mostre esse valor na saida do programa.\n",
    "ano_atual = 2025\n",
    "ano_nasc = 1993\n",
    "idade = ano_atual - ano_nasc\n",
    "\n",
    "print(f\"Minha idade idade em {ano_atual} será de {idade} anos.\")"
   ]
  },
  {
   "cell_type": "code",
   "execution_count": 56,
   "metadata": {},
   "outputs": [
    {
     "name": "stdout",
     "output_type": "stream",
     "text": [
      "A média aritimética entre 80, 60 e 40 é igual a 60.\n"
     ]
    }
   ],
   "source": [
    "# Crie um programa que faz a média aritimética entre três números. Estes números devem ser salvos em uma variável. Mostre esse valor na saída do programa.\n",
    "\n",
    "num_a = 80\n",
    "num_b = 60\n",
    "num_c = 40\n",
    "media = (num_a + num_b + num_c) / 3\n",
    "\n",
    "print(f\"A média aritimética entre {num_a}, {num_b} e {num_c} é igual a {media:.0f}.\")"
   ]
  },
  {
   "cell_type": "code",
   "execution_count": 57,
   "metadata": {},
   "outputs": [
    {
     "name": "stdout",
     "output_type": "stream",
     "text": [
      "Uma pessoa com peso igual a 85.0 e com 1.75 de altura tem o IMC é igual a 27.76.\n"
     ]
    }
   ],
   "source": [
    "# Crie um programa que calcule o IMC (indice de massa corporal).\n",
    "#O IMC é dado pelo peso em KG dividido pela altura em metros elevado ao quadrado. Salvar esses valores em uma variável. Mostre esse valor na saída do programa.\n",
    "\n",
    "peso = 85.00\n",
    "altura = 1.75\n",
    "IMC = peso / (altura ** 2)\n",
    "\n",
    "print(f\"Uma pessoa com peso igual a {peso} e com {altura} de altura tem o IMC é igual a {IMC:.2f}.\" )"
   ]
  },
  {
   "cell_type": "code",
   "execution_count": 58,
   "metadata": {},
   "outputs": [
    {
     "name": "stdout",
     "output_type": "stream",
     "text": [
      "Tenho 125 ovos onde serão divididos e entregues para 60 pessoas em partes iguais sendo assim, cada pessoa recebera 2 sobrando 5 ovo de páscoa.\n"
     ]
    }
   ],
   "source": [
    "# Você tem um determinado números de ovos de páscoa para dividir entre um determinado número de pessoas( duas váriaveis iniciais). \n",
    "#Determine quantos ovos ficarão por pessoa e quantos ovos sobrarão pois não puderam ser divididos igualmente.\n",
    "#Lembre o numero de ovos por pessoa é um número inteiro.\n",
    "\n",
    "ovos = 125\n",
    "pessoas = 60\n",
    "entregue = ovos / pessoas\n",
    "sobra = ovos % pessoas\n",
    "\n",
    "print(f\"Tenho {ovos} ovos onde serão divididos e entregues para {pessoas} pessoas em partes iguais sendo assim, cada pessoa recebera {entregue:.0f} sobrando {sobra} ovo de páscoa.\")"
   ]
  },
  {
   "cell_type": "code",
   "execution_count": 59,
   "metadata": {},
   "outputs": [
    {
     "name": "stdin",
     "output_type": "stream",
     "text": [
      "Digite um número:  6\n"
     ]
    },
    {
     "name": "stdout",
     "output_type": "stream",
     "text": [
      "O número é positivo e par.\n"
     ]
    }
   ],
   "source": [
    "#  Verifique se um número é positivo e par.\n",
    "numero = int(input(\"Digite um número: \"))\n",
    "if numero > 0 and numero % 2 == 0:\n",
    "    print(\"O número é positivo e par.\")\n",
    "else:\n",
    "    print(\"O número não é positivo e par.\")\n"
   ]
  },
  {
   "cell_type": "code",
   "execution_count": 60,
   "metadata": {},
   "outputs": [
    {
     "name": "stdin",
     "output_type": "stream",
     "text": [
      "Digite um número:  2\n"
     ]
    },
    {
     "name": "stdout",
     "output_type": "stream",
     "text": [
      "O número não está no intervalo entre 10 e 20.\n"
     ]
    }
   ],
   "source": [
    "#  Verifique se um número está dentro do intervalo de 10 a 20 (inclusive).\n",
    "numero = int(input(\"Digite um número: \"))\n",
    "if 10 <= numero <= 20:\n",
    "    print(\"O número está no intervalo entre 10 e 20.\")\n",
    "else:\n",
    "    print(\"O número não está no intervalo entre 10 e 20.\")\n"
   ]
  },
  {
   "cell_type": "code",
   "execution_count": 61,
   "metadata": {},
   "outputs": [
    {
     "name": "stdin",
     "output_type": "stream",
     "text": [
      "Digite sua idade:  31\n",
      "Você tem permissão especial? (sim/não):  sim\n"
     ]
    },
    {
     "name": "stdout",
     "output_type": "stream",
     "text": [
      "Você pode acessar o conteúdo.\n"
     ]
    }
   ],
   "source": [
    "#  Verifique se uma pessoa é maior de idade ou se tem permissão especial.\n",
    "idade = int(input(\"Digite sua idade: \"))\n",
    "permissao_especial = input(\"Você tem permissão especial? (sim/não): \").strip().lower()\n",
    "if idade >= 18 or permissao_especial == \"sim\":\n",
    "    print(\"Você pode acessar o conteúdo.\")\n",
    "else:\n",
    "    print(\"Você não tem permissão.\")\n"
   ]
  },
  {
   "cell_type": "code",
   "execution_count": 64,
   "metadata": {},
   "outputs": [
    {
     "name": "stdin",
     "output_type": "stream",
     "text": [
      "Digite um número:  5\n"
     ]
    },
    {
     "name": "stdout",
     "output_type": "stream",
     "text": [
      "O número é negativo ou múltiplo de 5.\n"
     ]
    }
   ],
   "source": [
    "#  Verifique se um número é negativo ou se é múltiplo de 5.\n",
    "numero = int(input(\"Digite um número: \"))\n",
    "if numero < 0 or numero % 5 == 0:\n",
    "    print(\"O número é negativo ou múltiplo de 5.\")\n",
    "else:\n",
    "    print(\"O número não é negativo nem múltiplo de 5.\")\n"
   ]
  },
  {
   "cell_type": "code",
   "execution_count": 65,
   "metadata": {},
   "outputs": [
    {
     "name": "stdin",
     "output_type": "stream",
     "text": [
      "Digite sua idade:  31\n",
      "Você é estudante? (sim/não):  sim\n"
     ]
    },
    {
     "name": "stdout",
     "output_type": "stream",
     "text": [
      "Você não atende a ambas as condições.\n"
     ]
    }
   ],
   "source": [
    "#  Verifique se uma pessoa não é estudante e não tem mais de 65 anos.\n",
    "idade = int(input(\"Digite sua idade: \"))\n",
    "estudante = input(\"Você é estudante? (sim/não): \").strip().lower()\n",
    "if not estudante == \"sim\" and idade > 65:\n",
    "    print(\"Você não é estudante e tem mais de 65 anos.\")\n",
    "else:\n",
    "    print(\"Você não atende a ambas as condições.\")\n"
   ]
  },
  {
   "cell_type": "code",
   "execution_count": 66,
   "metadata": {},
   "outputs": [
    {
     "name": "stdin",
     "output_type": "stream",
     "text": [
      "Digite sua idade:  31\n",
      "Você é estudante? (sim/não):  não\n"
     ]
    },
    {
     "name": "stdout",
     "output_type": "stream",
     "text": [
      "Você não atende a ambas as condições.\n"
     ]
    }
   ],
   "source": [
    "#  Verifique se uma pessoa tem 18 anos ou menos e se é estudante.\n",
    "idade = int(input(\"Digite sua idade: \"))\n",
    "estudante = input(\"Você é estudante? (sim/não): \").strip().lower()\n",
    "if idade <= 18 and estudante == \"sim\":\n",
    "    print(\"Você tem 18 anos ou menos e é estudante.\")\n",
    "else:\n",
    "    print(\"Você não atende a ambas as condições.\")\n"
   ]
  },
  {
   "cell_type": "code",
   "execution_count": 67,
   "metadata": {},
   "outputs": [
    {
     "name": "stdin",
     "output_type": "stream",
     "text": [
      "Digite o primeiro número:  5\n",
      "Digite o segundo número:  6\n"
     ]
    },
    {
     "name": "stdout",
     "output_type": "stream",
     "text": [
      "As condições não foram atendidas.\n"
     ]
    }
   ],
   "source": [
    "#  Verifique se dois números são diferentes e se o primeiro é maior que o segundo.\n",
    "numero1 = int(input(\"Digite o primeiro número: \"))\n",
    "numero2 = int(input(\"Digite o segundo número: \"))\n",
    "if numero1 != numero2 and numero1 > numero2:\n",
    "    print(\"O primeiro número é maior que o segundo e os dois são diferentes.\")\n",
    "else:\n",
    "    print(\"As condições não foram atendidas.\")\n"
   ]
  },
  {
   "cell_type": "code",
   "execution_count": 8,
   "metadata": {},
   "outputs": [
    {
     "name": "stdin",
     "output_type": "stream",
     "text": [
      "Digite sua idade:  31\n",
      "Você é estudante? (sim/não):  sim\n"
     ]
    },
    {
     "name": "stdout",
     "output_type": "stream",
     "text": [
      "Você tem entre 16 e 100 anos ou é estudante.\n"
     ]
    }
   ],
   "source": [
    "#  Verifique se uma pessoa tem entre 16 e 18 anos ou é estudante.\n",
    "idade = int(input(\"Digite sua idade: \"))\n",
    "estudante = input(\"Você é estudante? (sim/não): \").strip().lower()\n",
    "if (16 <= idade <= 18) and estudante == \"sim\":\n",
    "    print(\"Você tem entre 16 e 18 anos e é estudante.\")\n",
    "else:\n",
    "    print(\"Você não atende a ambas as condições.\")\n",
    "\n"
   ]
  },
  {
   "cell_type": "code",
   "execution_count": 9,
   "metadata": {},
   "outputs": [
    {
     "name": "stdin",
     "output_type": "stream",
     "text": [
      "Digite um número:  5\n"
     ]
    },
    {
     "name": "stdout",
     "output_type": "stream",
     "text": [
      "O número está fora do intervalo de 50 a 100.\n"
     ]
    }
   ],
   "source": [
    "#  Verifique se um número está fora do intervalo de 50 a 100.\n",
    "numero = int(input(\"Digite um número: \"))\n",
    "if not (50 <= numero <= 100):\n",
    "    print(\"O número está fora do intervalo de 50 a 100.\")\n",
    "else:\n",
    "    print(\"O número está dentro do intervalo de 50 a 100.\")\n"
   ]
  },
  {
   "cell_type": "code",
   "execution_count": 10,
   "metadata": {},
   "outputs": [
    {
     "name": "stdout",
     "output_type": "stream",
     "text": [
      "123\n"
     ]
    }
   ],
   "source": [
    "# : Converter string para inteiro\n",
    "# Crie um programa que leia uma string representando um número inteiro e converta-a para um número inteiro.\n",
    "\n",
    "numero_str = \"123\"  # String representando um número\n",
    "numero_int = int(numero_str)  # Conversão de string para inteiro\n",
    "print(numero_int)  # Saída: 123\n"
   ]
  },
  {
   "cell_type": "code",
   "execution_count": 11,
   "metadata": {},
   "outputs": [
    {
     "name": "stdout",
     "output_type": "stream",
     "text": [
      "45\n"
     ]
    }
   ],
   "source": [
    "#  Converter número flutuante para inteiro\n",
    "# Crie um programa que leia um número flutuante e o converta para um número inteiro, removendo a parte decimal.\n",
    "\n",
    "numero_float = 45.67\n",
    "numero_int = int(numero_float)  # Conversão de float para inteiro, descartando a parte decimal\n",
    "print(numero_int)  # Saída: 45\n"
   ]
  },
  {
   "cell_type": "code",
   "execution_count": 12,
   "metadata": {},
   "outputs": [
    {
     "name": "stdout",
     "output_type": "stream",
     "text": [
      "25\n"
     ]
    }
   ],
   "source": [
    "#  Converter inteiro para string\n",
    "# Crie um programa que leia um número inteiro e o converta para uma string.\n",
    "\n",
    "numero_int = 25\n",
    "numero_str = str(numero_int)  # Conversão de inteiro para string\n",
    "print(numero_str)  # Saída: '25'\n"
   ]
  },
  {
   "cell_type": "code",
   "execution_count": 13,
   "metadata": {},
   "outputs": [
    {
     "name": "stdout",
     "output_type": "stream",
     "text": [
      "12.34\n"
     ]
    }
   ],
   "source": [
    "#  Converter string para float\n",
    "# Crie um programa que leia uma string representando um número flutuante e converta-a para um número flutuante.\n",
    "\n",
    "numero_str = \"12.34\"\n",
    "numero_float = float(numero_str)  # Conversão de string para float\n",
    "print(numero_float)  # Saída: 12.34\n"
   ]
  },
  {
   "cell_type": "code",
   "execution_count": 14,
   "metadata": {},
   "outputs": [
    {
     "name": "stdout",
     "output_type": "stream",
     "text": [
      "99.99\n"
     ]
    }
   ],
   "source": [
    "#  Converter número flutuante para string\n",
    "# Crie um programa que leia um número flutuante e o converta para uma string.\n",
    "\n",
    "numero_float = 99.99\n",
    "numero_str = str(numero_float)  # Conversão de float para string\n",
    "print(numero_str)  # Saída: '99.99'\n",
    "\n"
   ]
  },
  {
   "cell_type": "code",
   "execution_count": 15,
   "metadata": {},
   "outputs": [
    {
     "name": "stdout",
     "output_type": "stream",
     "text": [
      "10.0\n"
     ]
    }
   ],
   "source": [
    "# Converter inteiro para float\n",
    "# Crie um programa que leia um número inteiro e o converta para um número flutuante.\n",
    "\n",
    "numero_int = 10\n",
    "numero_float = float(numero_int)  # Conversão de inteiro para float\n",
    "print(numero_float)  # Saída: 10.0\n"
   ]
  },
  {
   "cell_type": "code",
   "execution_count": 16,
   "metadata": {},
   "outputs": [
    {
     "name": "stdout",
     "output_type": "stream",
     "text": [
      "46\n"
     ]
    }
   ],
   "source": [
    "#  Converter número flutuante para inteiro (arredondamento)\n",
    "# Crie um programa que leia um número flutuante e o arredonde para o número inteiro mais próximo.\n",
    "\n",
    "numero_float = 45.67\n",
    "numero_int = round(numero_float)  # Arredondamento para o inteiro mais próximo\n",
    "print(numero_int)  # Saída: 46\n"
   ]
  },
  {
   "cell_type": "code",
   "execution_count": 17,
   "metadata": {},
   "outputs": [
    {
     "name": "stdout",
     "output_type": "stream",
     "text": [
      "11\n"
     ]
    }
   ],
   "source": [
    "#  Converter string binária para inteiro\n",
    "# Crie um programa que leia uma string representando um número binário e o converta para um número inteiro.\n",
    "\n",
    "numero_binario = \"1011\"  # Representação binária do número 11\n",
    "numero_int = int(numero_binario, 2)  # Conversão de binário (base 2) para inteiro\n",
    "print(numero_int)  # Saída: 11\n"
   ]
  },
  {
   "cell_type": "code",
   "execution_count": 18,
   "metadata": {},
   "outputs": [
    {
     "name": "stdout",
     "output_type": "stream",
     "text": [
      "26\n"
     ]
    }
   ],
   "source": [
    "#  Converter string hexadecimal para inteiro\n",
    "# Crie um programa que leia uma string representando um número hexadecimal e o converta para um número inteiro.\n",
    "\n",
    "numero_hexadecimal = \"1A\"  # Representação hexadecimal do número 26\n",
    "numero_int = int(numero_hexadecimal, 16)  # Conversão de hexadecimal (base 16) para inteiro\n",
    "print(numero_int)  # Saída: 26\n"
   ]
  },
  {
   "cell_type": "code",
   "execution_count": 19,
   "metadata": {},
   "outputs": [
    {
     "name": "stdout",
     "output_type": "stream",
     "text": [
      "1\n",
      "0\n"
     ]
    }
   ],
   "source": [
    "#  Converter valor booleano para inteiro\n",
    "# Crie um programa que converta valores booleanos True e False para seus respectivos inteiros (1 e 0).\n",
    "\n",
    "booleano_true = True\n",
    "booleano_false = False\n",
    "\n",
    "# Conversão de booleano para inteiro\n",
    "numero_true = int(booleano_true)  # True é convertido para 1\n",
    "numero_false = int(booleano_false)  # False é convertido para 0\n",
    "\n",
    "print(numero_true)  # Saída: 1\n",
    "print(numero_false)  # Saída: 0\n"
   ]
  },
  {
   "cell_type": "code",
   "execution_count": 106,
   "metadata": {},
   "outputs": [
    {
     "name": "stdin",
     "output_type": "stream",
     "text": [
      "Qual foi sua nota 3.5\n"
     ]
    },
    {
     "name": "stdout",
     "output_type": "stream",
     "text": [
      "Nota inferior a 7, você está de recuperação\n"
     ]
    }
   ],
   "source": [
    "# Crie um programa que responda se você foi aprovado numa prova. Você somente foi aprovado numa prova se sua média for mais ouigual que 7 ou se siua nota no exame for maio ou igual a 5.\n",
    "# Leia esses valores por input\n",
    "\n",
    "nota = float(input('Qual foi sua nota:'))\n",
    "if nota  >=  5 or nota >= 7:\n",
    "    print('Você foi aprovado')\n",
    "else:\n",
    "    print('Nota inferior a 7, você está em recuperação')\n"
   ]
  },
  {
   "cell_type": "code",
   "execution_count": 109,
   "metadata": {},
   "outputs": [
    {
     "name": "stdin",
     "output_type": "stream",
     "text": [
      "Digite sua senha: cursodepython\n"
     ]
    },
    {
     "name": "stdout",
     "output_type": "stream",
     "text": [
      "Senha incorreta, tente novamente!\n"
     ]
    }
   ],
   "source": [
    "#crie um programa que diga se a senha esta correta e protanto você tem acesso ao sistema.\n",
    "#A senha devera ser salva no codigo, e a tentativa deve ser lida por input\n",
    "\n",
    "senha = input('Digite sua senha:')\n",
    "if senha == 'Cursodepython':\n",
    "    print('bem-Vindo ao sistema')\n",
    "else:\n",
    "    print('Senha incorreta, tente novamente!')"
   ]
  },
  {
   "cell_type": "code",
   "execution_count": 112,
   "metadata": {},
   "outputs": [
    {
     "name": "stdout",
     "output_type": "stream",
     "text": [
      "ROMARIO\n",
      "FERREIRA\n"
     ]
    }
   ],
   "source": [
    "# Crie uma unica string que contêm seu nome e sobrenome, em seguida use o slicing para separar o nome em uma variável\n",
    "# e o seu sobrenome em outra. Printe esses valores\n",
    "\n",
    "nome = 'ROMARIO FERREIRA'\n",
    "primeiro_nome = nome[:7]\n",
    "segundo_nome = nome[-8:]\n",
    "print(primeiro_nome)\n",
    "print(segundo_nome)\n"
   ]
  },
  {
   "cell_type": "code",
   "execution_count": 119,
   "metadata": {},
   "outputs": [
    {
     "name": "stdin",
     "output_type": "stream",
     "text": [
      "Qual é o texto:  texto de exemplo para remover o ultimo caractere\n"
     ]
    },
    {
     "name": "stdout",
     "output_type": "stream",
     "text": [
      "texto de exemplo para remover o ultimo caracter\n"
     ]
    }
   ],
   "source": [
    "# Leia uma string através do input e retire o ultimo caractere\n",
    "texto =  input('Digite o texto: ')\n",
    "texto2 = texto[:-1]\n",
    "print(texto2)"
   ]
  },
  {
   "cell_type": "code",
   "execution_count": 121,
   "metadata": {},
   "outputs": [
    {
     "name": "stdin",
     "output_type": "stream",
     "text": [
      "Digite o texto:  DEFG\n"
     ]
    },
    {
     "name": "stdout",
     "output_type": "stream",
     "text": [
      "ABCDEFG\n"
     ]
    }
   ],
   "source": [
    "#faça um programa que insira a palavra 'ABC na primeira posição de uma string lida por input\n",
    "texto = input('Digite o texto: ')\n",
    "texto_inicial = 'ABC'\n",
    "saida = texto_inicial + texto\n",
    "print(saida)"
   ]
  },
  {
   "cell_type": "code",
   "execution_count": null,
   "metadata": {},
   "outputs": [],
   "source": []
  }
 ],
 "metadata": {
  "kernelspec": {
   "display_name": "Python 3 (ipykernel)",
   "language": "python",
   "name": "python3"
  },
  "language_info": {
   "codemirror_mode": {
    "name": "ipython",
    "version": 3
   },
   "file_extension": ".py",
   "mimetype": "text/x-python",
   "name": "python",
   "nbconvert_exporter": "python",
   "pygments_lexer": "ipython3",
   "version": "3.12.7"
  }
 },
 "nbformat": 4,
 "nbformat_minor": 4
}
