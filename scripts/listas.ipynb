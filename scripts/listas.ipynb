{
  "nbformat": 4,
  "nbformat_minor": 0,
  "metadata": {
    "colab": {
      "provenance": []
    },
    "kernelspec": {
      "name": "python3",
      "display_name": "Python 3"
    },
    "language_info": {
      "name": "python"
    }
  },
  "cells": [
    {
      "cell_type": "markdown",
      "source": [
        "# Questões sobre Listas (List)"
      ],
      "metadata": {
        "id": "liG7qvcFmIGA"
      }
    },
    {
      "cell_type": "code",
      "source": [
        "# 1. Crie uma lista com 5 elementos e imprima o primeiro e o último elemento da lista.\n",
        "lista = [1, 2, 3, 4, 5]\n",
        "print(lista)"
      ],
      "metadata": {
        "colab": {
          "base_uri": "https://localhost:8080/"
        },
        "id": "-7cOHWqZmBzp",
        "outputId": "f2e941cc-a47e-4066-c948-71aa762a0e87"
      },
      "execution_count": 44,
      "outputs": [
        {
          "output_type": "stream",
          "name": "stdout",
          "text": [
            "[1, 2, 3, 4, 5]\n"
          ]
        }
      ]
    },
    {
      "cell_type": "code",
      "source": [
        "# 2. Adicione o número 6 à lista e imprima a lista atualizada.\n",
        "lista.append(6)\n",
        "print(lista)"
      ],
      "metadata": {
        "colab": {
          "base_uri": "https://localhost:8080/"
        },
        "id": "08-YEejFlv_1",
        "outputId": "e4df8b19-0ae3-4afe-c2a8-5a4f975e3c46"
      },
      "execution_count": 45,
      "outputs": [
        {
          "output_type": "stream",
          "name": "stdout",
          "text": [
            "[1, 2, 3, 4, 5, 6]\n"
          ]
        }
      ]
    },
    {
      "cell_type": "code",
      "source": [
        "# 3. Remova o número 3 da lista e imprima a lista resultante.\n",
        "lista.remove(3)\n",
        "print(lista)"
      ],
      "metadata": {
        "colab": {
          "base_uri": "https://localhost:8080/"
        },
        "id": "J1tTc64OlyTD",
        "outputId": "3838797e-bd46-443c-8127-b78e013d26a0"
      },
      "execution_count": 46,
      "outputs": [
        {
          "output_type": "stream",
          "name": "stdout",
          "text": [
            "[1, 2, 4, 5, 6]\n"
          ]
        }
      ]
    },
    {
      "cell_type": "code",
      "source": [
        "# 4. Acesse e imprima o segundo elemento da lista.\n",
        "print(lista[1])"
      ],
      "metadata": {
        "colab": {
          "base_uri": "https://localhost:8080/"
        },
        "id": "aY4T3f3Sl0YF",
        "outputId": "db64e01a-50d9-4ffa-b0b0-c264fa30c427"
      },
      "execution_count": 47,
      "outputs": [
        {
          "output_type": "stream",
          "name": "stdout",
          "text": [
            "2\n"
          ]
        }
      ]
    },
    {
      "cell_type": "code",
      "source": [
        "# 5. Inverta a ordem da lista e imprima o resultado.\n",
        "lista.reverse()\n",
        "print(lista)"
      ],
      "metadata": {
        "colab": {
          "base_uri": "https://localhost:8080/"
        },
        "id": "ASYZSLfNl62q",
        "outputId": "a2ac9b5b-f854-4ba6-c9f7-021f3151f305"
      },
      "execution_count": 48,
      "outputs": [
        {
          "output_type": "stream",
          "name": "stdout",
          "text": [
            "[6, 5, 4, 2, 1]\n"
          ]
        }
      ]
    },
    {
      "cell_type": "code",
      "source": [
        "# 6. Crie uma lista de números de 1 a 10 e imprima os números pares.\n",
        "lista_numeros = list(range(1, 11))\n",
        "pares = [num for num in lista_numeros if num % 2 == 0]\n",
        "print(pares)"
      ],
      "metadata": {
        "colab": {
          "base_uri": "https://localhost:8080/"
        },
        "id": "kTx3G8e-l79O",
        "outputId": "394f5ac4-0595-4645-f2e6-0f6e8e2a6ab7"
      },
      "execution_count": 49,
      "outputs": [
        {
          "output_type": "stream",
          "name": "stdout",
          "text": [
            "[2, 4, 6, 8, 10]\n"
          ]
        }
      ]
    },
    {
      "cell_type": "code",
      "source": [
        "# 7. Faça uma lista de 5 strings e imprima o comprimento de cada string.\n",
        "strings = ['maçã', 'banana', 'laranja', 'uva', 'kiwi']\n",
        "comprimentos = [len(s) for s in strings]\n",
        "print(comprimentos)"
      ],
      "metadata": {
        "colab": {
          "base_uri": "https://localhost:8080/"
        },
        "id": "sRMi8Y2JmNJn",
        "outputId": "638e98c8-b465-4ff7-9651-10bb39c69e13"
      },
      "execution_count": 50,
      "outputs": [
        {
          "output_type": "stream",
          "name": "stdout",
          "text": [
            "[4, 6, 7, 3, 4]\n"
          ]
        }
      ]
    },
    {
      "cell_type": "code",
      "source": [
        "# 8. Verifique se o número 4 está na lista de números de 1 a 10 e imprima True ou False.\n",
        "print(4 in lista_numeros)"
      ],
      "metadata": {
        "colab": {
          "base_uri": "https://localhost:8080/"
        },
        "id": "sRxSPK4CmYfG",
        "outputId": "69ca3510-bc15-4af8-9637-6c8a6d2fc90c"
      },
      "execution_count": 12,
      "outputs": [
        {
          "output_type": "stream",
          "name": "stdout",
          "text": [
            "True\n"
          ]
        }
      ]
    },
    {
      "cell_type": "code",
      "source": [
        "# 9. Crie uma lista de listas (uma matriz 2x2) e imprima o elemento da segunda linha e segunda coluna.\n",
        "matriz = [[1, 2], [3, 4]]\n",
        "print(matriz[1][1])"
      ],
      "metadata": {
        "colab": {
          "base_uri": "https://localhost:8080/"
        },
        "id": "QILFNaSZmZMe",
        "outputId": "ffd6dc80-f914-480c-8150-2da91053695c"
      },
      "execution_count": 13,
      "outputs": [
        {
          "output_type": "stream",
          "name": "stdout",
          "text": [
            "4\n"
          ]
        }
      ]
    },
    {
      "cell_type": "code",
      "source": [
        "# 9. Crie uma lista de listas (uma matriz 2x2) e imprima o elemento da segunda linha e segunda coluna.\n",
        "matriz = [[1, 2], [3, 4]]\n",
        "print(matriz[1][1])"
      ],
      "metadata": {
        "colab": {
          "base_uri": "https://localhost:8080/"
        },
        "id": "Ze4COxv2ma98",
        "outputId": "c4c209ac-ad7d-4581-f189-da9117a9bf1c"
      },
      "execution_count": 14,
      "outputs": [
        {
          "output_type": "stream",
          "name": "stdout",
          "text": [
            "4\n"
          ]
        }
      ]
    },
    {
      "cell_type": "markdown",
      "source": [
        "\n",
        "# Questões sobre Sets"
      ],
      "metadata": {
        "id": "3MUC24V4mf2n"
      }
    },
    {
      "cell_type": "code",
      "source": [
        "# 11. Crie um set com números de 1 a 5 e imprima-o.\n",
        "conjunto = {1, 2, 3, 4, 5}\n",
        "print(conjunto)"
      ],
      "metadata": {
        "colab": {
          "base_uri": "https://localhost:8080/"
        },
        "id": "yo-oxlsSmdol",
        "outputId": "d3aac93a-6965-477a-abf3-232556b1f52b"
      },
      "execution_count": 60,
      "outputs": [
        {
          "output_type": "stream",
          "name": "stdout",
          "text": [
            "{1, 2, 3, 4, 5}\n"
          ]
        }
      ]
    },
    {
      "cell_type": "code",
      "source": [
        "# 12. Adicione o número 6 ao set e imprima o conjunto.\n",
        "conjunto.add(6)\n",
        "print(conjunto)"
      ],
      "metadata": {
        "colab": {
          "base_uri": "https://localhost:8080/"
        },
        "id": "KyxMuXzUmjRb",
        "outputId": "9d78a48e-d390-41b8-e236-267703436784"
      },
      "execution_count": 61,
      "outputs": [
        {
          "output_type": "stream",
          "name": "stdout",
          "text": [
            "{1, 2, 3, 4, 5, 6}\n"
          ]
        }
      ]
    },
    {
      "cell_type": "code",
      "source": [
        "# 13. Remova o número 2 do set e imprima o conjunto.\n",
        "conjunto.remove(2)\n",
        "print(conjunto)"
      ],
      "metadata": {
        "colab": {
          "base_uri": "https://localhost:8080/"
        },
        "id": "km2fJJejmlWZ",
        "outputId": "bf582770-8b1f-4fde-daf1-d3ceec953b60"
      },
      "execution_count": 62,
      "outputs": [
        {
          "output_type": "stream",
          "name": "stdout",
          "text": [
            "{1, 3, 4, 5, 6}\n"
          ]
        }
      ]
    },
    {
      "cell_type": "code",
      "source": [
        "# 14. Verifique se o número 3 está no set e imprima True ou False.\n",
        "print(3 in conjunto)"
      ],
      "metadata": {
        "colab": {
          "base_uri": "https://localhost:8080/"
        },
        "id": "MJc0ueo_mqBb",
        "outputId": "c740349c-dcda-45f2-fede-166d187d65b3"
      },
      "execution_count": 63,
      "outputs": [
        {
          "output_type": "stream",
          "name": "stdout",
          "text": [
            "True\n"
          ]
        }
      ]
    },
    {
      "cell_type": "code",
      "source": [
        "# 15. Crie dois sets: um com números pares e outro com números ímpares de 1 a 10. Encontre a interseção entre eles e imprima.\n",
        "pares = {2, 4, 6, 8, 10,12}\n",
        "impares = {1, 3, 5, 7, 9,11}\n",
        "interseção = pares & impares\n",
        "print(interseção)"
      ],
      "metadata": {
        "colab": {
          "base_uri": "https://localhost:8080/"
        },
        "id": "fw8dYn45mr4X",
        "outputId": "1f11d7ca-6d96-4a7c-ba1a-14f2a3544c12"
      },
      "execution_count": 69,
      "outputs": [
        {
          "output_type": "stream",
          "name": "stdout",
          "text": [
            "set()\n"
          ]
        }
      ]
    },
    {
      "cell_type": "code",
      "source": [
        "# 16. Crie dois sets e use a união para encontrar todos os elementos de ambos os sets.\n",
        "uniao = pares | impares\n",
        "print(uniao)\n"
      ],
      "metadata": {
        "colab": {
          "base_uri": "https://localhost:8080/"
        },
        "id": "rJC91J4Umt3x",
        "outputId": "2df6a4f3-f832-48ed-fbaf-e71ce40023de"
      },
      "execution_count": 70,
      "outputs": [
        {
          "output_type": "stream",
          "name": "stdout",
          "text": [
            "{1, 2, 3, 4, 5, 6, 7, 8, 9, 10, 11, 12}\n"
          ]
        }
      ]
    },
    {
      "cell_type": "code",
      "source": [
        "# 17. Crie um set com números de 1 a 5 e adicione um elemento duplicado (não será adicionado). Imprima o set.\n",
        "conjunto.add(5)\n",
        "print(conjunto)"
      ],
      "metadata": {
        "colab": {
          "base_uri": "https://localhost:8080/"
        },
        "id": "GsfIV2HcmwM4",
        "outputId": "14f047f0-d6d1-41c1-b713-eff387eaf911"
      },
      "execution_count": 72,
      "outputs": [
        {
          "output_type": "stream",
          "name": "stdout",
          "text": [
            "{1, 3, 4, 5, 6}\n"
          ]
        }
      ]
    },
    {
      "cell_type": "code",
      "source": [
        "# 18. Crie um set vazio e adicione três elementos a ele. Imprima o conjunto resultante.\n",
        "conjunto_vazio = set()\n",
        "conjunto_vazio.add(1)\n",
        "conjunto_vazio.add(2)\n",
        "conjunto_vazio.add(3)\n",
        "print(conjunto_vazio)"
      ],
      "metadata": {
        "colab": {
          "base_uri": "https://localhost:8080/"
        },
        "id": "V8L2M8tjnAq6",
        "outputId": "624f72e7-33a9-49f7-ab15-57e84bd9f0af"
      },
      "execution_count": 22,
      "outputs": [
        {
          "output_type": "stream",
          "name": "stdout",
          "text": [
            "{1, 2, 3}\n"
          ]
        }
      ]
    },
    {
      "cell_type": "code",
      "source": [
        "# 19. Faça uma diferença entre dois sets e imprima o resultado.\n",
        "diferenca = pares - impares\n",
        "print(diferenca)"
      ],
      "metadata": {
        "colab": {
          "base_uri": "https://localhost:8080/"
        },
        "id": "c9HgTOWXnCx0",
        "outputId": "9e5869c8-0502-40f6-855d-a94748963fb3"
      },
      "execution_count": 23,
      "outputs": [
        {
          "output_type": "stream",
          "name": "stdout",
          "text": [
            "{2, 4, 6, 8, 10}\n"
          ]
        }
      ]
    },
    {
      "cell_type": "code",
      "source": [
        "# 20. Converta uma lista com valores repetidos em um set, eliminando os duplicados, e imprima o resultado.\n",
        "lista_com_repetidos = [1, 2, 2, 3, 3, 4, 5, 5]\n",
        "set_unico = set(lista_com_repetidos)\n",
        "print(set_unico)"
      ],
      "metadata": {
        "colab": {
          "base_uri": "https://localhost:8080/"
        },
        "id": "cdDsJw6WnEWw",
        "outputId": "93e66a3e-1eed-4fc8-dd79-3e171372dd9b"
      },
      "execution_count": 24,
      "outputs": [
        {
          "output_type": "stream",
          "name": "stdout",
          "text": [
            "{1, 2, 3, 4, 5}\n"
          ]
        }
      ]
    },
    {
      "cell_type": "markdown",
      "source": [
        "# Questões sobre Dicionários"
      ],
      "metadata": {
        "id": "vZExP64RnJ-v"
      }
    },
    {
      "cell_type": "code",
      "source": [
        "# 21. Crie um dicionário com chave 'nome' e valor 'João'. Imprima o valor associado à chave 'nome'.\n",
        "dicionario = {'nome': 'João'}\n",
        "print(dicionario['nome'])"
      ],
      "metadata": {
        "colab": {
          "base_uri": "https://localhost:8080/"
        },
        "id": "NfMz6zFRnLBU",
        "outputId": "a542d48a-7c01-4caf-d817-3e4179107085"
      },
      "execution_count": 73,
      "outputs": [
        {
          "output_type": "stream",
          "name": "stdout",
          "text": [
            "João\n"
          ]
        }
      ]
    },
    {
      "cell_type": "code",
      "source": [
        "# 22. Adicione uma chave 'idade' com o valor 25 ao dicionário e imprima o dicionário.\n",
        "dicionario['idade'] = 25\n",
        "print(dicionario)"
      ],
      "metadata": {
        "colab": {
          "base_uri": "https://localhost:8080/"
        },
        "id": "UvrbTjBFnOZV",
        "outputId": "a1155e40-cfe6-4aae-aa6e-cffbebf58031"
      },
      "execution_count": 75,
      "outputs": [
        {
          "output_type": "stream",
          "name": "stdout",
          "text": [
            "{'nome': 'João', 'idade': 25}\n"
          ]
        }
      ]
    },
    {
      "cell_type": "code",
      "source": [
        "# 23. Remova a chave 'nome' do dicionário e imprima o dicionário resultante.\n",
        "del dicionario['nome']\n",
        "print(dicionario)"
      ],
      "metadata": {
        "colab": {
          "base_uri": "https://localhost:8080/"
        },
        "id": "4G9jGVwtnP9c",
        "outputId": "5e0cfb18-344d-4986-feee-63fd0feb4c24"
      },
      "execution_count": 76,
      "outputs": [
        {
          "output_type": "stream",
          "name": "stdout",
          "text": [
            "{'idade': 25}\n"
          ]
        }
      ]
    },
    {
      "cell_type": "code",
      "source": [
        "# 24. Verifique se a chave 'idade' existe no dicionário e imprima True ou False.\n",
        "print('idade' in dicionario)\n",
        "print(dicionario)"
      ],
      "metadata": {
        "colab": {
          "base_uri": "https://localhost:8080/"
        },
        "id": "ME575823nRvz",
        "outputId": "05966904-3449-4334-86b1-9f63f118fd5c"
      },
      "execution_count": 77,
      "outputs": [
        {
          "output_type": "stream",
          "name": "stdout",
          "text": [
            "True\n",
            "{'idade': 25}\n"
          ]
        }
      ]
    },
    {
      "cell_type": "code",
      "source": [
        "# 25. Crie um dicionário com três chaves ('nome', 'idade', 'cidade') e imprima todos os valores.\n",
        "pessoa = {'nome': 'Maria', 'idade': 30, 'cidade': 'São Paulo'}\n",
        "print(pessoa.values())\n"
      ],
      "metadata": {
        "colab": {
          "base_uri": "https://localhost:8080/"
        },
        "id": "qv8YbUMmnTlt",
        "outputId": "586163b4-d8a4-44ea-b792-bd8d998cdfc2"
      },
      "execution_count": 29,
      "outputs": [
        {
          "output_type": "stream",
          "name": "stdout",
          "text": [
            "dict_values(['Maria', 30, 'São Paulo'])\n"
          ]
        }
      ]
    },
    {
      "cell_type": "code",
      "source": [
        "# 26. Acesse o valor da chave 'idade' e imprima-o.\n",
        "print(pessoa['idade'])"
      ],
      "metadata": {
        "colab": {
          "base_uri": "https://localhost:8080/"
        },
        "id": "5r9QAhT9nWyp",
        "outputId": "81b0bfbc-1977-47d0-a1cf-771e257cd62e"
      },
      "execution_count": 30,
      "outputs": [
        {
          "output_type": "stream",
          "name": "stdout",
          "text": [
            "30\n"
          ]
        }
      ]
    },
    {
      "cell_type": "code",
      "source": [
        "# 27. Crie um dicionário com chaves e valores, depois imprima todas as chaves.\n",
        "chaves = pessoa.keys()\n",
        "print(chaves)"
      ],
      "metadata": {
        "colab": {
          "base_uri": "https://localhost:8080/"
        },
        "id": "aZD0_rNYnYig",
        "outputId": "3d4ef992-f0df-494a-a9c0-8d7e74867106"
      },
      "execution_count": 31,
      "outputs": [
        {
          "output_type": "stream",
          "name": "stdout",
          "text": [
            "dict_keys(['nome', 'idade', 'cidade'])\n"
          ]
        }
      ]
    },
    {
      "cell_type": "code",
      "source": [
        "# 28. Adicione uma nova chave 'profissão' ao dicionário e imprima o dicionário.\n",
        "pessoa['profissão'] = 'Engenheira'\n",
        "print(pessoa)"
      ],
      "metadata": {
        "colab": {
          "base_uri": "https://localhost:8080/"
        },
        "id": "3fDKuJYVnZgx",
        "outputId": "dbfa580f-e305-4539-c3a0-3dfaaa6a832b"
      },
      "execution_count": 78,
      "outputs": [
        {
          "output_type": "stream",
          "name": "stdout",
          "text": [
            "{'nome': 'Maria', 'idade': 31, 'cidade': 'São Paulo', 'profissão': 'Engenheira'}\n"
          ]
        }
      ]
    },
    {
      "cell_type": "code",
      "source": [
        "# 29. Atualize o valor da chave 'idade' para 31 e imprima o dicionário.\n",
        "pessoa['idade'] = 31\n",
        "print(pessoa)"
      ],
      "metadata": {
        "colab": {
          "base_uri": "https://localhost:8080/"
        },
        "id": "yDnTslIbnbgQ",
        "outputId": "64e6fccf-bd94-4d23-8898-8e5e50200768"
      },
      "execution_count": 79,
      "outputs": [
        {
          "output_type": "stream",
          "name": "stdout",
          "text": [
            "{'nome': 'Maria', 'idade': 31, 'cidade': 'São Paulo', 'profissão': 'Engenheira'}\n"
          ]
        }
      ]
    },
    {
      "cell_type": "code",
      "source": [
        "# 30. Crie um dicionário de 5 alunos com suas notas e calcule a média das notas.\n",
        "notas = {'João': 7, 'Maria': 9, 'Pedro': 6, 'Ana': 8, 'Lucas': 7}\n",
        "media = sum(notas.values()) / len(notas)\n",
        "print(media)"
      ],
      "metadata": {
        "colab": {
          "base_uri": "https://localhost:8080/"
        },
        "id": "3RMdUNU-nd3f",
        "outputId": "5f86879f-358a-47dd-c7d1-efaf84b98376"
      },
      "execution_count": 80,
      "outputs": [
        {
          "output_type": "stream",
          "name": "stdout",
          "text": [
            "7.4\n"
          ]
        }
      ]
    },
    {
      "cell_type": "markdown",
      "source": [
        "# Questões sobre Tuplas"
      ],
      "metadata": {
        "id": "vX497QJSnhN7"
      }
    },
    {
      "cell_type": "code",
      "source": [
        "# 31. Crie uma tupla com 3 elementos e imprima o segundo elemento.\n",
        "tupla = (1, 2, 3)\n",
        "print(tupla[1])"
      ],
      "metadata": {
        "colab": {
          "base_uri": "https://localhost:8080/"
        },
        "id": "gbkWpNHVnfxc",
        "outputId": "e92c8ffb-75c5-4ee2-d993-0d904f045a22"
      },
      "execution_count": 81,
      "outputs": [
        {
          "output_type": "stream",
          "name": "stdout",
          "text": [
            "2\n"
          ]
        }
      ]
    },
    {
      "cell_type": "code",
      "source": [
        "# 32. Crie uma tupla com elementos de diferentes tipos (inteiro, string, float) e imprima-a.\n",
        "tupla_mista = (1, 'Python', 3.14)\n",
        "print(tupla_mista)"
      ],
      "metadata": {
        "colab": {
          "base_uri": "https://localhost:8080/"
        },
        "id": "-8_U2EMUnl8I",
        "outputId": "41702bd5-dc2a-42d2-e9a3-2f15797b9feb"
      },
      "execution_count": 36,
      "outputs": [
        {
          "output_type": "stream",
          "name": "stdout",
          "text": [
            "(1, 'Python', 3.14)\n"
          ]
        }
      ]
    },
    {
      "cell_type": "code",
      "source": [
        "# 33. Tente modificar um elemento de uma tupla e observe o erro (as tuplas são imutáveis).\n",
        "tupla[1] = 'Alterado'  # Isso irá gerar um erro"
      ],
      "metadata": {
        "colab": {
          "base_uri": "https://localhost:8080/",
          "height": 158
        },
        "id": "xRL55lIxnm5Y",
        "outputId": "2afaf600-4800-44e3-8cb4-0ee5289902ce"
      },
      "execution_count": 37,
      "outputs": [
        {
          "output_type": "error",
          "ename": "TypeError",
          "evalue": "'tuple' object does not support item assignment",
          "traceback": [
            "\u001b[0;31m---------------------------------------------------------------------------\u001b[0m",
            "\u001b[0;31mTypeError\u001b[0m                                 Traceback (most recent call last)",
            "\u001b[0;32m<ipython-input-37-f23f1c6c1118>\u001b[0m in \u001b[0;36m<cell line: 0>\u001b[0;34m()\u001b[0m\n\u001b[1;32m      1\u001b[0m \u001b[0;31m# 33. Tente modificar um elemento de uma tupla e observe o erro (as tuplas são imutáveis).\u001b[0m\u001b[0;34m\u001b[0m\u001b[0;34m\u001b[0m\u001b[0m\n\u001b[0;32m----> 2\u001b[0;31m \u001b[0mtupla\u001b[0m\u001b[0;34m[\u001b[0m\u001b[0;36m1\u001b[0m\u001b[0;34m]\u001b[0m \u001b[0;34m=\u001b[0m \u001b[0;34m'Alterado'\u001b[0m  \u001b[0;31m# Isso irá gerar um erro\u001b[0m\u001b[0;34m\u001b[0m\u001b[0;34m\u001b[0m\u001b[0m\n\u001b[0m",
            "\u001b[0;31mTypeError\u001b[0m: 'tuple' object does not support item assignment"
          ]
        }
      ]
    },
    {
      "cell_type": "code",
      "source": [
        "# 34. Acesse o último elemento de uma tupla de 5 elementos.\n",
        "tupla5 = (10, 20, 30, 40, 50)\n",
        "print(tupla5[-1])"
      ],
      "metadata": {
        "colab": {
          "base_uri": "https://localhost:8080/"
        },
        "id": "OLtU2JoOn1bf",
        "outputId": "d68dda13-ce9d-4e43-c2d0-e5ed34570273"
      },
      "execution_count": 82,
      "outputs": [
        {
          "output_type": "stream",
          "name": "stdout",
          "text": [
            "50\n"
          ]
        }
      ]
    },
    {
      "cell_type": "code",
      "source": [
        "# 35. Crie uma tupla com 5 números e calcule a soma e a média dos elementos.\n",
        "numeros = (10, 20, 30, 40, 50)\n",
        "soma = sum(numeros)\n",
        "media = soma / len(numeros)\n",
        "print(soma, media)\n"
      ],
      "metadata": {
        "colab": {
          "base_uri": "https://localhost:8080/"
        },
        "id": "Gr4hU_r3n3Yd",
        "outputId": "5835c897-9840-4406-eb3a-dd98971b5a62"
      },
      "execution_count": 83,
      "outputs": [
        {
          "output_type": "stream",
          "name": "stdout",
          "text": [
            "150 30.0\n"
          ]
        }
      ]
    },
    {
      "cell_type": "code",
      "source": [
        "# 36. Crie uma tupla com elementos repetidos e imprima a quantidade de vezes que um elemento aparece.\n",
        "tupla_repetida = (1, 2, 2, 3, 3, 3)\n",
        "print(tupla_repetida.count(2))"
      ],
      "metadata": {
        "colab": {
          "base_uri": "https://localhost:8080/"
        },
        "id": "NWBO44pqn4Uo",
        "outputId": "57927ed6-fcb5-4b51-fbfc-4d75660208d3"
      },
      "execution_count": 84,
      "outputs": [
        {
          "output_type": "stream",
          "name": "stdout",
          "text": [
            "2\n"
          ]
        }
      ]
    },
    {
      "cell_type": "code",
      "source": [
        "# 37. Converta uma lista em uma tupla e imprima a tupla.\n",
        "lista = [1, 2, 3]\n",
        "tupla_convertida = tuple(lista)\n",
        "print(tupla_convertida)"
      ],
      "metadata": {
        "colab": {
          "base_uri": "https://localhost:8080/"
        },
        "id": "Ig_9fhqyn9UJ",
        "outputId": "186049d9-e0cf-4baa-c2d8-797d417237da"
      },
      "execution_count": 85,
      "outputs": [
        {
          "output_type": "stream",
          "name": "stdout",
          "text": [
            "(1, 2, 3)\n"
          ]
        }
      ]
    },
    {
      "cell_type": "code",
      "source": [
        "# 38. Crie uma tupla de 4 elementos e utilize o slicing para imprimir do segundo até o terceiro elemento.\n",
        "tupla4 = (1, 2, 3, 4)\n",
        "print(tupla4[1:3])"
      ],
      "metadata": {
        "colab": {
          "base_uri": "https://localhost:8080/"
        },
        "id": "5tiwzt0aoAhZ",
        "outputId": "67cff580-efa2-49e2-d33c-9e5ce966c6e1"
      },
      "execution_count": 86,
      "outputs": [
        {
          "output_type": "stream",
          "name": "stdout",
          "text": [
            "(2, 3)\n"
          ]
        }
      ]
    },
    {
      "cell_type": "code",
      "source": [
        "# 39. Crie uma tupla contendo uma lista como um dos elementos e acesse um valor da lista interna.\n",
        "tupla_com_lista = (1, [2, 3, 4], 5)\n",
        "print(tupla_com_lista[1][0])"
      ],
      "metadata": {
        "colab": {
          "base_uri": "https://localhost:8080/"
        },
        "id": "-lrg29ggoCHG",
        "outputId": "df810cc6-e71d-48c8-e15c-2345079975e7"
      },
      "execution_count": 87,
      "outputs": [
        {
          "output_type": "stream",
          "name": "stdout",
          "text": [
            "2\n"
          ]
        }
      ]
    },
    {
      "cell_type": "code",
      "source": [
        "# 40. Crie uma tupla vazia e imprima seu comprimento.\n",
        "tupla_vazia = ()\n",
        "print(len(tupla_vazia))"
      ],
      "metadata": {
        "colab": {
          "base_uri": "https://localhost:8080/"
        },
        "id": "bpTw_hiIoC5h",
        "outputId": "ca0d3e27-6049-490f-ca0a-0452ca79bb50"
      },
      "execution_count": 88,
      "outputs": [
        {
          "output_type": "stream",
          "name": "stdout",
          "text": [
            "0\n"
          ]
        }
      ]
    }
  ]
}