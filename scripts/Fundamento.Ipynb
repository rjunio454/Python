{
 "cells": [
  {
   "cell_type": "markdown",
   "metadata": {},
   "source": [
    "Atividade Fundamentos"
   ]
  },
  {
   "cell_type": "code",
   "execution_count": null,
   "metadata": {},
   "outputs": [],
   "source": [
    "# 1. Crie um programa que imprima \"Olá, Mundo!\" na tela.\n",
    "print(\"Olá, Mundo!\")\n"
   ]
  },
  {
   "cell_type": "code",
   "execution_count": null,
   "metadata": {},
   "outputs": [],
   "source": [
    "# 2. Crie um programa que peça ao usuário o seu nome e depois imprima uma saudação personalizada.\n",
    "nome = input(\"Qual é o seu nome? \")\n",
    "print(f\"Olá, {nome}!\")\n"
   ]
  },
  {
   "cell_type": "code",
   "execution_count": null,
   "metadata": {},
   "outputs": [],
   "source": [
    "# 3. Crie um programa que peça ao usuário dois números inteiros e imprima a soma deles.\n",
    "num1 = int(input(\"Digite o primeiro número: \"))\n",
    "num2 = int(input(\"Digite o segundo número: \"))\n",
    "print(f\"A soma é: {num1 + num2}\")\n"
   ]
  },
  {
   "cell_type": "code",
   "execution_count": null,
   "metadata": {},
   "outputs": [],
   "source": [
    "# 4. Crie um programa que calcule a média de três notas fornecidas pelo usuário.\n",
    "nota1 = float(input(\"Digite a primeira nota: \"))\n",
    "nota2 = float(input(\"Digite a segunda nota: \"))\n",
    "nota3 = float(input(\"Digite a terceira nota: \"))\n",
    "media = (nota1 + nota2 + nota3) / 3\n",
    "print(f\"A média das notas é: {media}\")\n",
    "\n"
   ]
  },
  {
   "cell_type": "code",
   "execution_count": null,
   "metadata": {},
   "outputs": [],
   "source": [
    "# 5. Crie um programa que imprima os números de 1 a 10 utilizando um laço de repetição.\n",
    "for i in range(1, 11):\n",
    "    print(i)\n"
   ]
  },
  {
   "cell_type": "code",
   "execution_count": null,
   "metadata": {},
   "outputs": [],
   "source": [
    "# 6. Crie um programa que leia um número e informe se ele é par ou ímpar.\n",
    "numero = int(input(\"Digite um número: \"))\n",
    "if numero % 2 == 0:\n",
    "    print(\"O número é par.\")\n",
    "else:\n",
    "    print(\"O número é ímpar.\")\n"
   ]
  },
  {
   "cell_type": "code",
   "execution_count": null,
   "metadata": {},
   "outputs": [],
   "source": [
    "# 7. Crie um programa que converta uma temperatura em Celsius para Fahrenheit.\n",
    "celsius = float(input(\"Digite a temperatura em Celsius: \"))\n",
    "fahrenheit = (celsius * 9/5) + 32\n",
    "print(f\"A temperatura em Fahrenheit é: {fahrenheit}\")\n"
   ]
  },
  {
   "cell_type": "code",
   "execution_count": null,
   "metadata": {},
   "outputs": [],
   "source": [
    "# 8. Crie um programa que leia um número e calcule seu fatorial (utilize um laço de repetição).\n",
    "num = int(input(\"Digite um número para calcular seu fatorial: \"))\n",
    "fatorial = 1\n",
    "for i in range(1, num + 1):\n",
    "    fatorial *= i\n",
    "print(f\"O fatorial de {num} é: {fatorial}\")\n"
   ]
  },
  {
   "cell_type": "code",
   "execution_count": null,
   "metadata": {},
   "outputs": [],
   "source": [
    "# 9. Crie um programa que leia um número e informe se ele é positivo, negativo ou zero.\n",
    "numero = int(input(\"Digite um número: \"))\n",
    "if numero > 0:\n",
    "    print(\"O número é positivo.\")\n",
    "elif numero < 0:\n",
    "    print(\"O número é negativo.\")\n",
    "else:\n",
    "    print(\"O número é zero.\")\n"
   ]
  },
  {
   "cell_type": "code",
   "execution_count": null,
   "metadata": {},
   "outputs": [],
   "source": [
    "# 10. Crie um programa que mostre a tabuada de um número fornecido pelo usuário.\n",
    "numero = int(input(\"Digite um número para ver a tabuada: \"))\n",
    "for i in range(1, 11):\n",
    "    print(f\"{numero} x {i} = {numero * i}\")\n"
   ]
  },
  {
   "cell_type": "markdown",
   "metadata": {},
   "source": [
    "Atividade variáveis"
   ]
  },
  {
   "cell_type": "code",
   "execution_count": null,
   "metadata": {},
   "outputs": [],
   "source": [
    "#1. Crie uma variável de cada tipo e ponha alguma valor escolhido em seguida, printe todos esses valores.\n",
    "var_texto = \"Romário Ferreira\"\n",
    "var_inteiro = 25\n",
    "var_float = 1.75\n",
    "var_booleano = True\n",
    "\n",
    "print(var_texto, var_inteiro, var_float, var_booleano)\n",
    "\n",
    "var_nome = \"Romário Ferreira\"\n",
    "var_cpf = \"111.111.111-11\"\n",
    "var_casado = False\n",
    "\n",
    "\n"
   ]
  },
  {
   "cell_type": "code",
   "execution_count": null,
   "metadata": {},
   "outputs": [],
   "source": [
    "# 2. Crie uma variável para armazenar o preço de um produto e calcule o preço com 10% de desconto.\n",
    "preco = 100\n",
    "desconto = 0.10\n",
    "preco_com_desconto = preco - (preco * desconto)\n",
    "print(f\"O preço com desconto é: {preco_com_desconto}\")\n"
   ]
  },
  {
   "cell_type": "code",
   "execution_count": null,
   "metadata": {},
   "outputs": [],
   "source": [
    "# 3. Crie uma variável para armazenar sua altura em metros e depois converta para centímetros.\n",
    "altura = 1.75\n",
    "altura_cm = altura * 100\n",
    "print(f\"Sua altura em centímetros é: {altura_cm} cm.\")\n"
   ]
  },
  {
   "cell_type": "code",
   "execution_count": null,
   "metadata": {},
   "outputs": [],
   "source": [
    "# 4. Crie duas variáveis que armazenam os lados de um retângulo e calcule sua área.\n",
    "comprimento = 5\n",
    "largura = 3\n",
    "area = comprimento * largura\n",
    "print(f\"A área do retângulo é: {area}\")\n"
   ]
  },
  {
   "cell_type": "code",
   "execution_count": null,
   "metadata": {},
   "outputs": [],
   "source": [
    "# 5. Crie uma variável que armazene a sua idade e outra que armazene o ano atual. Depois, calcule o ano de nascimento.\n",
    "idade = 25\n",
    "ano_atual = 2025\n",
    "ano_nascimento = ano_atual - idade\n",
    "print(f\"Você nasceu no ano de {ano_nascimento}.\")\n"
   ]
  },
  {
   "cell_type": "code",
   "execution_count": null,
   "metadata": {},
   "outputs": [],
   "source": [
    "# 6. Crie uma variável para armazenar o seu salário e calcule 15% de aumento.\n",
    "salario = 2000\n",
    "aumento = salario * 0.15\n",
    "novo_salario = salario + aumento\n",
    "print(f\"Seu novo salário com 15% de aumento é: {novo_salario}\")\n"
   ]
  },
  {
   "cell_type": "code",
   "execution_count": null,
   "metadata": {},
   "outputs": [],
   "source": [
    "# 7. Crie uma variável para armazenar a distância entre duas cidades em quilômetros e converta para metros.\n",
    "distancia_km = 120\n",
    "distancia_m = distancia_km * 1000\n",
    "print(f\"A distância entre as cidades é: {distancia_m} metros.\")\n"
   ]
  },
  {
   "cell_type": "code",
   "execution_count": null,
   "metadata": {},
   "outputs": [],
   "source": [
    "# 8. Crie uma variável para armazenar a temperatura em Fahrenheit e converta para Celsius.\n",
    "fahrenheit = 98.6\n",
    "celsius = (fahrenheit - 32) * 5/9\n",
    "print(f\"A temperatura em Celsius é: {celsius}\")\n"
   ]
  },
  {
   "cell_type": "code",
   "execution_count": null,
   "metadata": {},
   "outputs": [],
   "source": [
    "#9. Crie variáveis para guardar seu nome, CPF e uma que indique se você esta casado, em seguida printe esses valores separadamente, mas não esqueça de printar junto o que eles significam.\n",
    "print(var_nome)\n",
    "print(var_cpf)\n",
    "print(var_casado)\n",
    "\n",
    "print(f\"Meu nome é {var_nome} meu CPF é {var_cpf} e eu estou casado? {var_casado}\")"
   ]
  },
  {
   "cell_type": "code",
   "execution_count": null,
   "metadata": {},
   "outputs": [],
   "source": [
    "# 10. Crie duas variáveis para armazenar a quantidade de horas e minutos. Depois, converta tudo para minutos.\n",
    "horas = 2\n",
    "minutos = 30\n",
    "total_minutos = (horas * 60) + minutos\n",
    "print(f\"O total em minutos é: {total_minutos}\")\n"
   ]
  },
  {
   "cell_type": "code",
   "execution_count": null,
   "metadata": {},
   "outputs": [],
   "source": [
    "# 11. Crie uma variável para armazenar o número de dias e converta para semanas e dias restantes.\n",
    "dias = 45\n",
    "semanas = dias // 7\n",
    "dias_restantes = dias % 7\n",
    "print(f\"{dias} dias equivalem a {semanas} semanas e {dias_restantes} dias.\")\n"
   ]
  },
  {
   "cell_type": "markdown",
   "metadata": {},
   "source": [
    "Atividades de Formatação"
   ]
  },
  {
   "cell_type": "code",
   "execution_count": null,
   "metadata": {},
   "outputs": [],
   "source": [
    "# 1. Escreva e formate a data em que você nasceu no formato dia/mês/ano. Não esqueça de criar 3 variavéis para guardar cada dia, mês e ano.\n",
    "dia=11\n",
    "mes= 9\n",
    "ano=1993\n",
    "\n",
    "print(f\"Eu nasci em {dia}/{mes}/{ano}\")"
   ]
  },
  {
   "cell_type": "code",
   "execution_count": null,
   "metadata": {},
   "outputs": [],
   "source": [
    "# 2. Crie um programa que imprima seu nome e sua idade em uma única linha, usando formatação.\n",
    "nome = \"Maria\"\n",
    "idade = 30\n",
    "print(f\"Meu nome é {nome} e eu tenho {idade} anos.\")\n"
   ]
  },
  {
   "cell_type": "code",
   "execution_count": null,
   "metadata": {},
   "outputs": [],
   "source": [
    "# 3. Crie um programa que imprima um número flutuante com 2 casas decimais.\n",
    "numero = 123.4567\n",
    "print(f\"O número com 2 casas decimais é: {numero:.2f}\")\n"
   ]
  },
  {
   "cell_type": "code",
   "execution_count": null,
   "metadata": {},
   "outputs": [],
   "source": [
    "# 4. Crie um programa que imprima seu nome alinhado à esquerda e à direita em um campo de 20 caracteres.\n",
    "nome = \"Lucas\"\n",
    "print(f\"{nome:<20} está alinhado à esquerda.\")\n",
    "print(f\"{nome:>20} está alinhado à direita.\")\n"
   ]
  },
  {
   "cell_type": "code",
   "execution_count": null,
   "metadata": {},
   "outputs": [],
   "source": [
    "# 5. Crie um programa que imprima um número com zeros à esquerda até completar 5 dígitos.\n",
    "numero = 42\n",
    "print(f\"O número com zeros à esquerda é: {numero:05}\")\n"
   ]
  },
  {
   "cell_type": "code",
   "execution_count": null,
   "metadata": {},
   "outputs": [],
   "source": [
    "# 6. Crie um programa que imprima o nome e a idade de uma pessoa com formatação.\n",
    "nome = \"Romário\"\n",
    "idade = 25\n",
    "print(f\"{nome} tem {idade} anos.\")\n"
   ]
  },
  {
   "cell_type": "code",
   "execution_count": null,
   "metadata": {},
   "outputs": [],
   "source": [
    "# 7. Crie um programa que imprima um número grande com separador de milhar.\n",
    "numero = 1000000\n",
    "print(f\"O número com separador de milhar é: {numero:,}\")\n"
   ]
  },
  {
   "cell_type": "code",
   "execution_count": null,
   "metadata": {},
   "outputs": [],
   "source": [
    "# 8. Crie um programa que imprima uma mensagem personalizada combinando seu nome e idade com um texto explicativo.\n",
    "nome = \"Ana\"\n",
    "idade = 22\n",
    "print(f\"Olá, meu nome é {nome} e eu tenho {idade} anos.\")\n"
   ]
  },
  {
   "cell_type": "code",
   "execution_count": null,
   "metadata": {},
   "outputs": [],
   "source": [
    "# 9. Crie um programa que utilize o método `.format()` para exibir uma mensagem.\n",
    "nome = \"Carlos\"\n",
    "idade = 40\n",
    "print(\"Meu nome é {} e tenho {} anos.\".format(nome, idade))\n"
   ]
  },
  {
   "cell_type": "code",
   "execution_count": null,
   "metadata": {},
   "outputs": [],
   "source": [
    "# 10. Crie um programa que imprima uma porcentagem com 1 casa decimal.\n",
    "porcentagem = 0.856\n",
    "print(f\"A porcentagem é: {porcentagem:.1%}\")\n"
   ]
  },
  {
   "cell_type": "code",
   "execution_count": null,
   "metadata": {},
   "outputs": [],
   "source": [
    "# 11. Crie um programa que imprima a data atual no formato \"dd/mm/aaaa\".\n",
    "from datetime import datetime\n",
    "data_atual = datetime.now()\n",
    "print(f\"A data de hoje é: {data_atual.strftime('%d/%m/%Y')}\")\n"
   ]
  },
  {
   "cell_type": "markdown",
   "metadata": {},
   "source": [
    "Atividade Operadores aritiméticos"
   ]
  },
  {
   "cell_type": "code",
   "execution_count": null,
   "metadata": {},
   "outputs": [],
   "source": [
    "#1. Crie um programa que possui duas variáveis, uma recebe o ano em que estamos e a outra o ano em que você nasceu. \n",
    "# Em seguida subtraia ambas para receber uma estimativa de quantos anos você tem. Mostre esse valor na saida do programa.\n",
    "ano_atual = 2025\n",
    "ano_nasc = 1993\n",
    "idade = ano_atual - ano_nasc\n",
    "\n",
    "print(f\"Minha idade idade em {ano_atual} será de {idade} anos.\")"
   ]
  },
  {
   "cell_type": "code",
   "execution_count": null,
   "metadata": {},
   "outputs": [],
   "source": [
    "#2. Crie um programa que faz a média aritimética entre três números. Estes números devem ser salvos em uma variável. Mostre esse valor na saída do programa.\n",
    "\n",
    "num_a = 80\n",
    "num_b = 60\n",
    "num_c = 40\n",
    "media = (num_a + num_b + num_c) / 3\n",
    "\n",
    "print(f\"A média aritimética entre {num_a}, {num_b} e {num_c} é igual a {media:.0f}.\")"
   ]
  },
  {
   "cell_type": "code",
   "execution_count": null,
   "metadata": {},
   "outputs": [],
   "source": [
    "#3. Crie um programa que calcule o IMC (indice de massa corporal).\n",
    "#O IMC é dado pelo peso em KG dividido pela altura em metros elevado ao quadrado. Salvar esses valores em uma variável. Mostre esse valor na saída do programa.\n",
    "\n",
    "peso = 85.00\n",
    "altura = 1.75\n",
    "IMC = peso / (altura ** 2)\n",
    "\n",
    "print(f\"Uma pessoa com peso igual a {peso} e com {altura} de altura tem o IMC é igual a {IMC:.2f}.\" )"
   ]
  },
  {
   "cell_type": "code",
   "execution_count": null,
   "metadata": {},
   "outputs": [],
   "source": [
    "#4. Você tem um determinado números de ovos de páscoa para dividir entre um determinado número de pessoas( duas váriaveis iniciais). \n",
    "#Determine quantos ovos ficarão por pessoa e quantos ovos sobrarão pois não puderam ser divididos igualmente.\n",
    "#Lembre o numero de ovos por pessoa é um número inteiro.\n",
    "\n",
    "ovos = 125\n",
    "pessoas = 60\n",
    "entregue = ovos / pessoas\n",
    "sobra = ovos % pessoas\n",
    "\n",
    "print(f\"Tenho {ovos} ovos onde serão divididos e entregues para {pessoas} pessoas em partes iguais sendo assim, cada pessoa recebera {entregue:.0f} sobrando {sobra} ovo de páscoa.\")"
   ]
  },
  {
   "cell_type": "code",
   "execution_count": null,
   "metadata": {},
   "outputs": [],
   "source": [
    "# 5. Verifique se um número é positivo e par.\n",
    "numero = int(input(\"Digite um número: \"))\n",
    "if numero > 0 and numero % 2 == 0:\n",
    "    print(\"O número é positivo e par.\")\n",
    "else:\n",
    "    print(\"O número não é positivo e par.\")\n"
   ]
  },
  {
   "cell_type": "code",
   "execution_count": null,
   "metadata": {},
   "outputs": [],
   "source": [
    "# 6. Verifique se um número está dentro do intervalo de 10 a 20 (inclusive).\n",
    "numero = int(input(\"Digite um número: \"))\n",
    "if 10 <= numero <= 20:\n",
    "    print(\"O número está no intervalo entre 10 e 20.\")\n",
    "else:\n",
    "    print(\"O número não está no intervalo entre 10 e 20.\")\n"
   ]
  },
  {
   "cell_type": "code",
   "execution_count": null,
   "metadata": {},
   "outputs": [],
   "source": [
    "# 7. Verifique se uma pessoa é maior de idade ou se tem permissão especial.\n",
    "idade = int(input(\"Digite sua idade: \"))\n",
    "permissao_especial = input(\"Você tem permissão especial? (sim/não): \").strip().lower()\n",
    "if idade >= 18 or permissao_especial == \"sim\":\n",
    "    print(\"Você pode acessar o conteúdo.\")\n",
    "else:\n",
    "    print(\"Você não tem permissão.\")\n"
   ]
  },
  {
   "cell_type": "code",
   "execution_count": null,
   "metadata": {},
   "outputs": [],
   "source": [
    "# 8. Verifique se um número é negativo ou se é múltiplo de 5.\n",
    "numero = int(input(\"Digite um número: \"))\n",
    "if numero < 0 or numero % 5 == 0:\n",
    "    print(\"O número é negativo ou múltiplo de 5.\")\n",
    "else:\n",
    "    print(\"O número não é negativo nem múltiplo de 5.\")\n"
   ]
  },
  {
   "cell_type": "code",
   "execution_count": null,
   "metadata": {},
   "outputs": [],
   "source": [
    "# 9. Verifique se uma pessoa não é estudante e não tem mais de 65 anos.\n",
    "idade = int(input(\"Digite sua idade: \"))\n",
    "estudante = input(\"Você é estudante? (sim/não): \").strip().lower()\n",
    "if not estudante == \"sim\" and idade > 65:\n",
    "    print(\"Você não é estudante e tem mais de 65 anos.\")\n",
    "else:\n",
    "    print(\"Você não atende a ambas as condições.\")\n"
   ]
  },
  {
   "cell_type": "code",
   "execution_count": null,
   "metadata": {},
   "outputs": [],
   "source": [
    "# 10. Verifique se uma pessoa tem 18 anos ou menos e se é estudante.\n",
    "idade = int(input(\"Digite sua idade: \"))\n",
    "estudante = input(\"Você é estudante? (sim/não): \").strip().lower()\n",
    "if idade <= 18 and estudante == \"sim\":\n",
    "    print(\"Você tem 18 anos ou menos e é estudante.\")\n",
    "else:\n",
    "    print(\"Você não atende a ambas as condições.\")\n"
   ]
  },
  {
   "cell_type": "code",
   "execution_count": null,
   "metadata": {},
   "outputs": [],
   "source": [
    "# 11. Verifique se dois números são diferentes e se o primeiro é maior que o segundo.\n",
    "numero1 = int(input(\"Digite o primeiro número: \"))\n",
    "numero2 = int(input(\"Digite o segundo número: \"))\n",
    "if numero1 != numero2 and numero1 > numero2:\n",
    "    print(\"O primeiro número é maior que o segundo e os dois são diferentes.\")\n",
    "else:\n",
    "    print(\"As condições não foram atendidas.\")\n"
   ]
  },
  {
   "cell_type": "code",
   "execution_count": null,
   "metadata": {},
   "outputs": [],
   "source": [
    "# 12. Verifique se uma pessoa tem entre 16 e 18 anos ou é estudante.\n",
    "idade = int(input(\"Digite sua idade: \"))\n",
    "estudante = input(\"Você é estudante? (sim/não): \").strip().lower()\n",
    "if (16 <= idade <= 18) or estudante == \"sim\":\n",
    "    print(\"Você tem entre 16 e 18 anos ou é estudante.\")\n",
    "else:\n",
    "    print(\"Você não atende a nenhuma das condições.\")\n"
   ]
  },
  {
   "cell_type": "code",
   "execution_count": null,
   "metadata": {},
   "outputs": [],
   "source": [
    "# 13. Verifique se um número está fora do intervalo de 50 a 100.\n",
    "numero = int(input(\"Digite um número: \"))\n",
    "if not (50 <= numero <= 100):\n",
    "    print(\"O número está fora do intervalo de 50 a 100.\")\n",
    "else:\n",
    "    print(\"O número está dentro do intervalo de 50 a 100.\")\n"
   ]
  }
 ],
 "metadata": {
  "kernelspec": {
   "display_name": "Python 3",
   "language": "python",
   "name": "python3"
  },
  "language_info": {
   "codemirror_mode": {
    "name": "ipython",
    "version": 3
   },
   "file_extension": ".py",
   "mimetype": "text/x-python",
   "name": "python",
   "nbconvert_exporter": "python",
   "pygments_lexer": "ipython3",
   "version": "3.10.11"
  }
 },
 "nbformat": 4,
 "nbformat_minor": 2
}
